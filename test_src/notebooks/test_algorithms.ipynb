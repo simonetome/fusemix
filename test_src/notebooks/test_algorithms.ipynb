{
 "cells": [
  {
   "cell_type": "code",
   "execution_count": 33,
   "id": "7c3e1fc6",
   "metadata": {},
   "outputs": [],
   "source": [
    "from pathlib import Path\n",
    "import os,sys\n",
    "import pickle\n",
    "import pandas as pd\n",
    "\n",
    "from tqdm.notebook import tqdm\n",
    "\n",
    "sys.path.insert(0, str(Path().resolve().parents[1]))\n",
    "import fusemix.pipeline as pipeline \n",
    "from fusemix.imputation import MultipleImputer\n",
    "from fusemix.clustering import external_metrics, compute_MICA, compute_kpod, compute_fusemix,internal_metrics\n",
    "from gower import gower_matrix\n",
    "from sklearn.impute import KNNImputer\n",
    "import warnings\n",
    "\n",
    "import importlib\n",
    "import pandas as pd\n",
    "import numpy as np\n",
    "\n",
    "from sklearn.cluster import KMeans, SpectralClustering\n",
    "from scipy.sparse import csr_matrix\n",
    "from scipy.sparse.csgraph import connected_components\n",
    "\n",
    "import seaborn as sns \n",
    "\n",
    "warnings.filterwarnings(\"ignore\")"
   ]
  },
  {
   "cell_type": "code",
   "execution_count": 2,
   "id": "7dfd6911",
   "metadata": {},
   "outputs": [],
   "source": [
    "def read_pickle(path):\n",
    "    with open(path, 'rb') as f:\n",
    "        return pickle.load(f)\n",
    "    \n",
    "def write_pickle(var, path):\n",
    "    with open(path, 'wb') as f:\n",
    "       pickle.dump(var, f)"
   ]
  },
  {
   "cell_type": "code",
   "execution_count": 3,
   "id": "3429a557",
   "metadata": {},
   "outputs": [],
   "source": [
    "test_data_complete = read_pickle(\"../../test_data/fetched/dataset_15.pkl\")\n",
    "test_data_missing = read_pickle(\"../../test_data/missing_data/15/0.75_0.5_0.0/data_pipeline_0.pkl\")\n",
    "test_data = read_pickle(\"../../test_data/imputed_data/15/0.75_0.5_0.0/data_imputed_0.pkl\")"
   ]
  },
  {
   "cell_type": "code",
   "execution_count": 4,
   "id": "a4ad18e5",
   "metadata": {},
   "outputs": [
    {
     "data": {
      "text/html": [
       "<div>\n",
       "<style scoped>\n",
       "    .dataframe tbody tr th:only-of-type {\n",
       "        vertical-align: middle;\n",
       "    }\n",
       "\n",
       "    .dataframe tbody tr th {\n",
       "        vertical-align: top;\n",
       "    }\n",
       "\n",
       "    .dataframe thead th {\n",
       "        text-align: right;\n",
       "    }\n",
       "</style>\n",
       "<table border=\"1\" class=\"dataframe\">\n",
       "  <thead>\n",
       "    <tr style=\"text-align: right;\">\n",
       "      <th></th>\n",
       "      <th>Clump_thickness</th>\n",
       "      <th>Uniformity_of_cell_size</th>\n",
       "      <th>Uniformity_of_cell_shape</th>\n",
       "      <th>Marginal_adhesion</th>\n",
       "      <th>Single_epithelial_cell_size</th>\n",
       "      <th>Bare_nuclei</th>\n",
       "      <th>Bland_chromatin</th>\n",
       "      <th>Normal_nucleoli</th>\n",
       "      <th>Mitoses</th>\n",
       "    </tr>\n",
       "  </thead>\n",
       "  <tbody>\n",
       "    <tr>\n",
       "      <th>0</th>\n",
       "      <td>5.0</td>\n",
       "      <td>1.0</td>\n",
       "      <td>1.0</td>\n",
       "      <td>1.0</td>\n",
       "      <td>2.0</td>\n",
       "      <td>1.0</td>\n",
       "      <td>3.0</td>\n",
       "      <td>1.0</td>\n",
       "      <td>1.0</td>\n",
       "    </tr>\n",
       "    <tr>\n",
       "      <th>1</th>\n",
       "      <td>5.0</td>\n",
       "      <td>4.0</td>\n",
       "      <td>4.0</td>\n",
       "      <td>5.0</td>\n",
       "      <td>7.0</td>\n",
       "      <td>10.0</td>\n",
       "      <td>3.0</td>\n",
       "      <td>2.0</td>\n",
       "      <td>1.0</td>\n",
       "    </tr>\n",
       "  </tbody>\n",
       "</table>\n",
       "</div>"
      ],
      "text/plain": [
       "   Clump_thickness  Uniformity_of_cell_size  Uniformity_of_cell_shape  \\\n",
       "0              5.0                      1.0                       1.0   \n",
       "1              5.0                      4.0                       4.0   \n",
       "\n",
       "   Marginal_adhesion  Single_epithelial_cell_size  Bare_nuclei  \\\n",
       "0                1.0                          2.0          1.0   \n",
       "1                5.0                          7.0         10.0   \n",
       "\n",
       "   Bland_chromatin  Normal_nucleoli  Mitoses  \n",
       "0              3.0              1.0      1.0  \n",
       "1              3.0              2.0      1.0  "
      ]
     },
     "execution_count": 4,
     "metadata": {},
     "output_type": "execute_result"
    }
   ],
   "source": [
    "test_data_complete['X_complete'].head(2)"
   ]
  },
  {
   "cell_type": "code",
   "execution_count": 5,
   "id": "0653febf",
   "metadata": {},
   "outputs": [
    {
     "data": {
      "text/html": [
       "<div>\n",
       "<style scoped>\n",
       "    .dataframe tbody tr th:only-of-type {\n",
       "        vertical-align: middle;\n",
       "    }\n",
       "\n",
       "    .dataframe tbody tr th {\n",
       "        vertical-align: top;\n",
       "    }\n",
       "\n",
       "    .dataframe thead th {\n",
       "        text-align: right;\n",
       "    }\n",
       "</style>\n",
       "<table border=\"1\" class=\"dataframe\">\n",
       "  <thead>\n",
       "    <tr style=\"text-align: right;\">\n",
       "      <th></th>\n",
       "      <th>Clump_thickness</th>\n",
       "      <th>Uniformity_of_cell_size</th>\n",
       "      <th>Uniformity_of_cell_shape</th>\n",
       "      <th>Marginal_adhesion</th>\n",
       "      <th>Single_epithelial_cell_size</th>\n",
       "      <th>Bare_nuclei</th>\n",
       "      <th>Bland_chromatin</th>\n",
       "      <th>Normal_nucleoli</th>\n",
       "      <th>Mitoses</th>\n",
       "    </tr>\n",
       "  </thead>\n",
       "  <tbody>\n",
       "    <tr>\n",
       "      <th>0</th>\n",
       "      <td>5.0</td>\n",
       "      <td>1.0</td>\n",
       "      <td>1.000000</td>\n",
       "      <td>1.0</td>\n",
       "      <td>2.0</td>\n",
       "      <td>1.0</td>\n",
       "      <td>3.000000</td>\n",
       "      <td>1.0</td>\n",
       "      <td>1.000000</td>\n",
       "    </tr>\n",
       "    <tr>\n",
       "      <th>1</th>\n",
       "      <td>5.0</td>\n",
       "      <td>4.0</td>\n",
       "      <td>5.756944</td>\n",
       "      <td>5.0</td>\n",
       "      <td>7.0</td>\n",
       "      <td>10.0</td>\n",
       "      <td>5.985938</td>\n",
       "      <td>2.0</td>\n",
       "      <td>1.889583</td>\n",
       "    </tr>\n",
       "  </tbody>\n",
       "</table>\n",
       "</div>"
      ],
      "text/plain": [
       "   Clump_thickness  Uniformity_of_cell_size  Uniformity_of_cell_shape  \\\n",
       "0              5.0                      1.0                  1.000000   \n",
       "1              5.0                      4.0                  5.756944   \n",
       "\n",
       "   Marginal_adhesion  Single_epithelial_cell_size  Bare_nuclei  \\\n",
       "0                1.0                          2.0          1.0   \n",
       "1                5.0                          7.0         10.0   \n",
       "\n",
       "   Bland_chromatin  Normal_nucleoli   Mitoses  \n",
       "0         3.000000              1.0  1.000000  \n",
       "1         5.985938              2.0  1.889583  "
      ]
     },
     "execution_count": 5,
     "metadata": {},
     "output_type": "execute_result"
    }
   ],
   "source": [
    "test_data[0].head(2)"
   ]
  },
  {
   "cell_type": "code",
   "execution_count": 6,
   "id": "894d9ac4",
   "metadata": {},
   "outputs": [
    {
     "data": {
      "text/plain": [
       "2"
      ]
     },
     "execution_count": 6,
     "metadata": {},
     "output_type": "execute_result"
    }
   ],
   "source": [
    "test_data_complete['num_classes']"
   ]
  },
  {
   "cell_type": "code",
   "execution_count": 7,
   "id": "8aa2cc28",
   "metadata": {},
   "outputs": [],
   "source": [
    "# this needs to be set for each experiment, but not for each sampling\n",
    "seed = 42\n",
    "rng = np.random.default_rng(seed)\n",
    "# ================================= #\n",
    "\n",
    "cat_mask = test_data_complete['cat_mask']\n",
    "view = test_data[0]\n",
    "n_features = view.shape[1]\n",
    "p_min = 0.75*n_features\n",
    "p_max = 0.85*n_features\n",
    "\n",
    "num_projections = 3"
   ]
  },
  {
   "cell_type": "code",
   "execution_count": 8,
   "id": "1be5f87a",
   "metadata": {},
   "outputs": [],
   "source": [
    "def generate_projection(data,cat_mask):\n",
    "    # create projection of the view\n",
    "    view = data.copy()\n",
    "    alfa = rng.random()\n",
    "    selected_features = rng.choice(a=range(n_features), size=round(p_min+alfa*(p_max-p_min)), replace=False)  \n",
    "    cat_mask_projected = cat_mask[selected_features]\n",
    "    projected_view = view.iloc[:,selected_features]\n",
    "    return (projected_view,cat_mask_projected)\n",
    "\n",
    "all_data  = []\n",
    "for view in test_data:\n",
    "    for i in range(num_projections):\n",
    "        all_data.append(generate_projection(data=view, cat_mask=cat_mask))"
   ]
  },
  {
   "cell_type": "code",
   "execution_count": 9,
   "id": "f6a1fb94",
   "metadata": {},
   "outputs": [],
   "source": [
    "def compute_sparse_similarity(data, cat_mask, k):    \n",
    "    gower_dist = gower_matrix(data, cat_features=cat_mask)\n",
    "    neighbors_idx = np.argsort(gower_dist, axis=1)[:, 1:k+1]\n",
    "\n",
    "    # build sparse matrix \n",
    "    rows = np.repeat(np.arange(gower_dist.shape[0]), k)\n",
    "    cols = neighbors_idx.flatten()\n",
    "    A = csr_matrix((gower_dist[rows, cols], (rows, cols)), shape=gower_dist.shape)\n",
    "\n",
    "    # simmetrize matrix  \n",
    "    A = 0.5 * (A + A.T)\n",
    "    # distance -> similarity\n",
    "    A.data = 1-A.data\n",
    "\n",
    "    # normalize where each row sums to 1\n",
    "    row_sums = np.array(A.sum(axis=1)).flatten()\n",
    "    row_sums[row_sums == 0] = 1  # avoid division by zero\n",
    "    A = A.multiply(1 / row_sums[:, None])\n",
    "    return A\n",
    "\n",
    "all_projections = [compute_sparse_similarity(prj_view,prj_mask,10) for (prj_view, prj_mask) in all_data]"
   ]
  },
  {
   "cell_type": "code",
   "execution_count": 10,
   "id": "b856b308",
   "metadata": {},
   "outputs": [],
   "source": [
    "def compute_spectral(sparse_affinity_mat):\n",
    "    sc = SpectralClustering(n_clusters=test_data_complete['num_classes'],\n",
    "                            random_state=seed,\n",
    "                            affinity=\"precomputed\"\n",
    "                            #assign_labels=\"cluster_qr\"\n",
    "                            )\n",
    "\n",
    "    return sc.fit(sparse_affinity_mat).labels_\n",
    "\n",
    "all_labels = [compute_spectral(aff_mat) for aff_mat in all_projections]"
   ]
  },
  {
   "cell_type": "code",
   "execution_count": 11,
   "id": "e6c749a7",
   "metadata": {},
   "outputs": [],
   "source": [
    "CO = (np.array(all_labels)[:, :, None] == np.array(all_labels)[:, None, :]).mean(axis=0)"
   ]
  },
  {
   "cell_type": "code",
   "execution_count": 12,
   "id": "89aa3527",
   "metadata": {},
   "outputs": [],
   "source": [
    "def consensus_clustering(CO, threshold=0.5):\n",
    "    \"\"\"\n",
    "    labels: (M, N) array of cluster assignments\n",
    "    threshold: co-association cutoff (e.g., 0.5)\n",
    "    \"\"\"\n",
    "    # threshold\n",
    "    adj = (CO >= threshold).astype(int)\n",
    "    graph = csr_matrix(adj)\n",
    "\n",
    "    sc = SpectralClustering(n_clusters=test_data_complete['num_classes'],\n",
    "                            random_state=seed,\n",
    "                            affinity=\"precomputed\"\n",
    "                            #assign_labels=\"cluster_qr\"\n",
    "                            )\n",
    "    return sc.fit(graph).labels_"
   ]
  },
  {
   "cell_type": "code",
   "execution_count": 15,
   "id": "7c780458",
   "metadata": {},
   "outputs": [],
   "source": [
    "predicted_labels = consensus_clustering(CO)\n",
    "true_labels = test_data_complete['y_complete'].to_numpy().ravel()"
   ]
  },
  {
   "cell_type": "code",
   "execution_count": null,
   "id": "56548650",
   "metadata": {},
   "outputs": [
    {
     "data": {
      "text/plain": [
       "{'ari': 0.9021072608540192,\n",
       " 'ami': 0.8256714277997358,\n",
       " 'vm': 0.8258681724158916,\n",
       " 'cs': 0.8220024982245699}"
      ]
     },
     "execution_count": 16,
     "metadata": {},
     "output_type": "execute_result"
    }
   ],
   "source": []
  },
  {
   "cell_type": "code",
   "execution_count": null,
   "id": "4da206a0",
   "metadata": {},
   "outputs": [
    {
     "data": {
      "text/plain": [
       "9"
      ]
     },
     "execution_count": 54,
     "metadata": {},
     "output_type": "execute_result"
    }
   ],
   "source": [
    "len(cat_mask)"
   ]
  },
  {
   "cell_type": "code",
   "execution_count": null,
   "id": "d522a42c",
   "metadata": {},
   "outputs": [],
   "source": [
    "num_clusters = test_data_complete['num_classes']\n",
    "predicted_mica = compute_MICA(test_data,num_clusters,seed)\n",
    "predicted_kpod =  compute_kpod(test_data_missing.amputer.incomplete_dataset,num_clusters)\n",
    "predicted_fusemix = compute_fusemix(test_data,cat_mask,\n",
    "                    num_clusters,\n",
    "                    nn_snf=10,\n",
    "                    seed=seed)"
   ]
  },
  {
   "cell_type": "code",
   "execution_count": null,
   "id": "4010074d",
   "metadata": {},
   "outputs": [
    {
     "ename": "AttributeError",
     "evalue": "'tuple' object has no attribute 'shape'",
     "output_type": "error",
     "traceback": [
      "\u001b[31m---------------------------------------------------------------------------\u001b[39m",
      "\u001b[31mAttributeError\u001b[39m                            Traceback (most recent call last)",
      "\u001b[36mCell\u001b[39m\u001b[36m \u001b[39m\u001b[32mIn[20]\u001b[39m\u001b[32m, line 1\u001b[39m\n\u001b[32m----> \u001b[39m\u001b[32m1\u001b[39m \u001b[43mpredicted_kpod\u001b[49m\u001b[43m.\u001b[49m\u001b[43mshape\u001b[49m\n",
      "\u001b[31mAttributeError\u001b[39m: 'tuple' object has no attribute 'shape'"
     ]
    }
   ],
   "source": [
    "predicted_kpod[]"
   ]
  },
  {
   "cell_type": "code",
   "execution_count": 32,
   "id": "6116e732",
   "metadata": {},
   "outputs": [
    {
     "name": "stdout",
     "output_type": "stream",
     "text": [
      "{'ari': 0.9021072608540192, 'ami': 0.8256714277997358, 'vm': 0.8258681724158916, 'cs': 0.8220024982245699}\n",
      "{'ari': 0.8740924498588075, 'ami': 0.7822526874931329, 'vm': 0.7824999602689191, 'cs': 0.7836105678038735}\n",
      "{'ari': 0.7762605817439933, 'ami': 0.6768644211199069, 'vm': 0.6772393802332708, 'cs': 0.6932098705358005}\n"
     ]
    }
   ],
   "source": [
    "print(external_metrics(true_labels,predicted_labels))\n",
    "print(external_metrics(true_labels,predicted_mica))\n",
    "print(external_metrics(true_labels,predicted_kpod[0]))\n"
   ]
  },
  {
   "cell_type": "code",
   "execution_count": 46,
   "id": "c469099e",
   "metadata": {},
   "outputs": [
    {
     "data": {
      "text/plain": [
       "2"
      ]
     },
     "execution_count": 46,
     "metadata": {},
     "output_type": "execute_result"
    }
   ],
   "source": [
    "num_clusters"
   ]
  },
  {
   "cell_type": "code",
   "execution_count": 47,
   "id": "9ccd4f71",
   "metadata": {},
   "outputs": [
    {
     "data": {
      "text/html": [
       "<div>\n",
       "<style scoped>\n",
       "    .dataframe tbody tr th:only-of-type {\n",
       "        vertical-align: middle;\n",
       "    }\n",
       "\n",
       "    .dataframe tbody tr th {\n",
       "        vertical-align: top;\n",
       "    }\n",
       "\n",
       "    .dataframe thead th {\n",
       "        text-align: right;\n",
       "    }\n",
       "</style>\n",
       "<table border=\"1\" class=\"dataframe\">\n",
       "  <thead>\n",
       "    <tr style=\"text-align: right;\">\n",
       "      <th></th>\n",
       "      <th>Clump_thickness</th>\n",
       "      <th>Uniformity_of_cell_size</th>\n",
       "      <th>Uniformity_of_cell_shape</th>\n",
       "      <th>Marginal_adhesion</th>\n",
       "      <th>Single_epithelial_cell_size</th>\n",
       "      <th>Bare_nuclei</th>\n",
       "      <th>Bland_chromatin</th>\n",
       "      <th>Normal_nucleoli</th>\n",
       "      <th>Mitoses</th>\n",
       "    </tr>\n",
       "  </thead>\n",
       "  <tbody>\n",
       "    <tr>\n",
       "      <th>0</th>\n",
       "      <td>5.0</td>\n",
       "      <td>1.0</td>\n",
       "      <td>1.0</td>\n",
       "      <td>1.0</td>\n",
       "      <td>2.0</td>\n",
       "      <td>1.0</td>\n",
       "      <td>3.0</td>\n",
       "      <td>1.0</td>\n",
       "      <td>1.0</td>\n",
       "    </tr>\n",
       "    <tr>\n",
       "      <th>1</th>\n",
       "      <td>5.0</td>\n",
       "      <td>4.0</td>\n",
       "      <td>4.0</td>\n",
       "      <td>5.0</td>\n",
       "      <td>7.0</td>\n",
       "      <td>10.0</td>\n",
       "      <td>3.0</td>\n",
       "      <td>2.0</td>\n",
       "      <td>1.0</td>\n",
       "    </tr>\n",
       "    <tr>\n",
       "      <th>2</th>\n",
       "      <td>3.0</td>\n",
       "      <td>1.0</td>\n",
       "      <td>1.0</td>\n",
       "      <td>1.0</td>\n",
       "      <td>2.0</td>\n",
       "      <td>2.0</td>\n",
       "      <td>3.0</td>\n",
       "      <td>1.0</td>\n",
       "      <td>1.0</td>\n",
       "    </tr>\n",
       "    <tr>\n",
       "      <th>3</th>\n",
       "      <td>6.0</td>\n",
       "      <td>8.0</td>\n",
       "      <td>8.0</td>\n",
       "      <td>1.0</td>\n",
       "      <td>3.0</td>\n",
       "      <td>4.0</td>\n",
       "      <td>3.0</td>\n",
       "      <td>7.0</td>\n",
       "      <td>1.0</td>\n",
       "    </tr>\n",
       "    <tr>\n",
       "      <th>4</th>\n",
       "      <td>4.0</td>\n",
       "      <td>1.0</td>\n",
       "      <td>1.0</td>\n",
       "      <td>3.0</td>\n",
       "      <td>2.0</td>\n",
       "      <td>1.0</td>\n",
       "      <td>3.0</td>\n",
       "      <td>1.0</td>\n",
       "      <td>1.0</td>\n",
       "    </tr>\n",
       "    <tr>\n",
       "      <th>...</th>\n",
       "      <td>...</td>\n",
       "      <td>...</td>\n",
       "      <td>...</td>\n",
       "      <td>...</td>\n",
       "      <td>...</td>\n",
       "      <td>...</td>\n",
       "      <td>...</td>\n",
       "      <td>...</td>\n",
       "      <td>...</td>\n",
       "    </tr>\n",
       "    <tr>\n",
       "      <th>694</th>\n",
       "      <td>3.0</td>\n",
       "      <td>1.0</td>\n",
       "      <td>1.0</td>\n",
       "      <td>1.0</td>\n",
       "      <td>3.0</td>\n",
       "      <td>2.0</td>\n",
       "      <td>1.0</td>\n",
       "      <td>1.0</td>\n",
       "      <td>1.0</td>\n",
       "    </tr>\n",
       "    <tr>\n",
       "      <th>695</th>\n",
       "      <td>2.0</td>\n",
       "      <td>1.0</td>\n",
       "      <td>1.0</td>\n",
       "      <td>1.0</td>\n",
       "      <td>2.0</td>\n",
       "      <td>1.0</td>\n",
       "      <td>1.0</td>\n",
       "      <td>1.0</td>\n",
       "      <td>1.0</td>\n",
       "    </tr>\n",
       "    <tr>\n",
       "      <th>696</th>\n",
       "      <td>5.0</td>\n",
       "      <td>10.0</td>\n",
       "      <td>10.0</td>\n",
       "      <td>3.0</td>\n",
       "      <td>7.0</td>\n",
       "      <td>3.0</td>\n",
       "      <td>8.0</td>\n",
       "      <td>10.0</td>\n",
       "      <td>2.0</td>\n",
       "    </tr>\n",
       "    <tr>\n",
       "      <th>697</th>\n",
       "      <td>4.0</td>\n",
       "      <td>8.0</td>\n",
       "      <td>6.0</td>\n",
       "      <td>4.0</td>\n",
       "      <td>3.0</td>\n",
       "      <td>4.0</td>\n",
       "      <td>10.0</td>\n",
       "      <td>6.0</td>\n",
       "      <td>1.0</td>\n",
       "    </tr>\n",
       "    <tr>\n",
       "      <th>698</th>\n",
       "      <td>4.0</td>\n",
       "      <td>8.0</td>\n",
       "      <td>8.0</td>\n",
       "      <td>5.0</td>\n",
       "      <td>4.0</td>\n",
       "      <td>5.0</td>\n",
       "      <td>10.0</td>\n",
       "      <td>4.0</td>\n",
       "      <td>1.0</td>\n",
       "    </tr>\n",
       "  </tbody>\n",
       "</table>\n",
       "<p>683 rows × 9 columns</p>\n",
       "</div>"
      ],
      "text/plain": [
       "     Clump_thickness  Uniformity_of_cell_size  Uniformity_of_cell_shape  \\\n",
       "0                5.0                      1.0                       1.0   \n",
       "1                5.0                      4.0                       4.0   \n",
       "2                3.0                      1.0                       1.0   \n",
       "3                6.0                      8.0                       8.0   \n",
       "4                4.0                      1.0                       1.0   \n",
       "..               ...                      ...                       ...   \n",
       "694              3.0                      1.0                       1.0   \n",
       "695              2.0                      1.0                       1.0   \n",
       "696              5.0                     10.0                      10.0   \n",
       "697              4.0                      8.0                       6.0   \n",
       "698              4.0                      8.0                       8.0   \n",
       "\n",
       "     Marginal_adhesion  Single_epithelial_cell_size  Bare_nuclei  \\\n",
       "0                  1.0                          2.0          1.0   \n",
       "1                  5.0                          7.0         10.0   \n",
       "2                  1.0                          2.0          2.0   \n",
       "3                  1.0                          3.0          4.0   \n",
       "4                  3.0                          2.0          1.0   \n",
       "..                 ...                          ...          ...   \n",
       "694                1.0                          3.0          2.0   \n",
       "695                1.0                          2.0          1.0   \n",
       "696                3.0                          7.0          3.0   \n",
       "697                4.0                          3.0          4.0   \n",
       "698                5.0                          4.0          5.0   \n",
       "\n",
       "     Bland_chromatin  Normal_nucleoli  Mitoses  \n",
       "0                3.0              1.0      1.0  \n",
       "1                3.0              2.0      1.0  \n",
       "2                3.0              1.0      1.0  \n",
       "3                3.0              7.0      1.0  \n",
       "4                3.0              1.0      1.0  \n",
       "..               ...              ...      ...  \n",
       "694              1.0              1.0      1.0  \n",
       "695              1.0              1.0      1.0  \n",
       "696              8.0             10.0      2.0  \n",
       "697             10.0              6.0      1.0  \n",
       "698             10.0              4.0      1.0  \n",
       "\n",
       "[683 rows x 9 columns]"
      ]
     },
     "execution_count": 47,
     "metadata": {},
     "output_type": "execute_result"
    }
   ],
   "source": [
    "test_data_complete['X_complete']"
   ]
  },
  {
   "cell_type": "code",
   "execution_count": 48,
   "id": "cf8eb90e",
   "metadata": {},
   "outputs": [],
   "source": [
    "sparse_mat = compute_sparse_similarity(test_data_complete['X_complete'], cat_mask, 10)\n",
    "cca_spectral = SpectralClustering(n_clusters=num_clusters, random_state=seed, affinity=\"precomputed\").fit(sparse_mat).labels_"
   ]
  },
  {
   "cell_type": "code",
   "execution_count": 49,
   "id": "34500aaf",
   "metadata": {},
   "outputs": [
    {
     "name": "stdout",
     "output_type": "stream",
     "text": [
      "{'ari': 0.9533413030013026, 'ami': 0.9035578701309003, 'vm': 0.9036663413245779, 'cs': 0.9024901520325989}\n",
      "{'ari': 0.9475212988640727, 'ami': 0.8996134776455079, 'vm': 0.8997270840673357, 'cs': 0.9040818421466608}\n",
      "{'ari': 0.8136402062688123, 'ami': 0.7503644839144535, 'vm': 0.7506531370811965, 'cs': 0.7710361684306213}\n"
     ]
    }
   ],
   "source": [
    "print(external_metrics(cca_spectral,predicted_labels))\n",
    "print(external_metrics(cca_spectral,predicted_mica))\n",
    "print(external_metrics(cca_spectral,predicted_kpod[0]))"
   ]
  },
  {
   "cell_type": "code",
   "execution_count": 42,
   "id": "cb76f268",
   "metadata": {},
   "outputs": [],
   "source": [
    "cca_kmeans = KMeans(n_clusters=num_clusters).fit(test_data_complete['X_complete']).labels_"
   ]
  },
  {
   "cell_type": "code",
   "execution_count": 43,
   "id": "7ef29333",
   "metadata": {},
   "outputs": [
    {
     "name": "stdout",
     "output_type": "stream",
     "text": [
      "{'ari': 0.9076090768258467, 'ami': 0.8543718396534232, 'vm': 0.8545372912352716, 'cs': 0.84495049853657}\n",
      "{'ari': 0.9589662318964268, 'ami': 0.9227555595967385, 'vm': 0.9228438676542212, 'cs': 0.918045850153877}\n",
      "{'ari': 0.8899860026536389, 'ami': 0.8306632044290962, 'vm': 0.8308610493495857, 'cs': 0.844712123188088}\n"
     ]
    }
   ],
   "source": [
    "print(external_metrics(cca_kmeans,predicted_labels))\n",
    "print(external_metrics(cca_kmeans,predicted_mica))\n",
    "print(external_metrics(cca_kmeans,predicted_kpod[0]))"
   ]
  },
  {
   "cell_type": "code",
   "execution_count": 34,
   "id": "00aa6717",
   "metadata": {},
   "outputs": [
    {
     "name": "stdout",
     "output_type": "stream",
     "text": [
      "{'sh': 0.6365898251533508, 'ch': 977.2736859700723, 'db': 0.7706203861140039}\n",
      "{'sh': 0.6469982862472534, 'ch': 1012.7287007507688, 'db': 0.7612523191724858}\n",
      "{'sh': 0.6496018767356873, 'ch': 978.7019520839181, 'db': 0.7671818686097436}\n"
     ]
    }
   ],
   "source": [
    "gower_dist_complete = gower_matrix(test_data_complete['X_complete'],cat_features=cat_mask)\n",
    "\n",
    "print(internal_metrics(predicted_labels, gower_dist_complete, test_data_complete['X_complete']))\n",
    "print(internal_metrics(predicted_mica, gower_dist_complete, test_data_complete['X_complete']))\n",
    "print(internal_metrics(predicted_kpod[0], gower_dist_complete, test_data_complete['X_complete']))"
   ]
  }
 ],
 "metadata": {
  "kernelspec": {
   "display_name": "fusemix",
   "language": "python",
   "name": "python3"
  },
  "language_info": {
   "codemirror_mode": {
    "name": "ipython",
    "version": 3
   },
   "file_extension": ".py",
   "mimetype": "text/x-python",
   "name": "python",
   "nbconvert_exporter": "python",
   "pygments_lexer": "ipython3",
   "version": "3.13.9"
  }
 },
 "nbformat": 4,
 "nbformat_minor": 5
}
