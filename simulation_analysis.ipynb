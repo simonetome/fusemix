{
 "cells": [
  {
   "cell_type": "code",
   "execution_count": 2,
   "id": "7cff3587",
   "metadata": {},
   "outputs": [],
   "source": [
    "from fusemix.simulation import Simulation\n",
    "from fusemix.imputation import MultipleImputer\n",
    "from gower import gower_matrix\n",
    "import seaborn as sns\n",
    "import matplotlib.pyplot as plt\n",
    "import fusemix.clustering as clustering_utils\n",
    "\n",
    "import warnings\n",
    "import pickle\n",
    "import importlib\n",
    "import scikit_posthocs as sp\n",
    "import pandas as pd\n",
    "import numpy as np\n",
    "\n",
    "from time import sleep \n",
    "from tqdm import tqdm_notebook\n",
    "\n",
    "from scipy.stats import friedmanchisquare\n",
    "\n",
    "importlib.reload(clustering_utils)\n",
    "\n",
    "warnings.filterwarnings(\"ignore\")"
   ]
  },
  {
   "cell_type": "code",
   "execution_count": 3,
   "id": "018cf7aa",
   "metadata": {},
   "outputs": [],
   "source": [
    "def read_pickle(path):\n",
    "    with open(path, 'rb') as f:\n",
    "        return pickle.load(f)\n",
    "    \n",
    "\n",
    "def write_pickle(var, path):\n",
    "    with open(path, 'wb') as f:\n",
    "       pickle.dump(var, f)"
   ]
  },
  {
   "cell_type": "code",
   "execution_count": 4,
   "id": "c06492ef",
   "metadata": {},
   "outputs": [],
   "source": [
    "complete_data = read_pickle(\"test_data/loaded_data.pkl\")\n",
    "\n",
    "\n",
    "datasets = [15,17,33,45]\n",
    "\n",
    "n_runs = 20\n",
    "\n",
    "md_param_grid = {\n",
    "    'props': [0.75,1.],\n",
    "    'mf_proportions': [0.5,0.75],\n",
    "    'mnar_proportions': [0.,0.25]\n",
    "}"
   ]
  },
  {
   "cell_type": "code",
   "execution_count": 5,
   "id": "e56c5250",
   "metadata": {},
   "outputs": [],
   "source": [
    "results_fusemix = read_pickle(\"output_simulation/fusemix.pickle\")\n",
    "results_singleimput= read_pickle(\"output_simulation/singleimput.pickle\")\n",
    "results_singleimput_knn= read_pickle(\"output_simulation/singleimput_knn.pickle\")\n",
    "results_kpod = read_pickle(\"output_simulation/kpod.pickle\")\n"
   ]
  },
  {
   "cell_type": "code",
   "execution_count": 6,
   "id": "e124a2dc",
   "metadata": {},
   "outputs": [],
   "source": [
    "metrics = ['ari','ami','vm','cs','sh','ch','db']\n",
    "internal_metrics = ['sh','ch','db']\n",
    "external_metrics = ['ari','ami','vm','cs']\n",
    "external_metrics_known = []\n",
    "\n",
    "for em in external_metrics:\n",
    "    external_metrics_known.append(\"known_\"+em)\n",
    "\n",
    "\n",
    "all_metrics = internal_metrics + external_metrics + external_metrics_known\n",
    "\n",
    "#all_metrics = [m for m in all_metrics if not m in ['vm','known_vm']]"
   ]
  },
  {
   "cell_type": "code",
   "execution_count": 7,
   "id": "42b84d16",
   "metadata": {},
   "outputs": [
    {
     "data": {
      "text/plain": [
       "['sh',\n",
       " 'ch',\n",
       " 'db',\n",
       " 'ari',\n",
       " 'ami',\n",
       " 'vm',\n",
       " 'cs',\n",
       " 'known_ari',\n",
       " 'known_ami',\n",
       " 'known_vm',\n",
       " 'known_cs']"
      ]
     },
     "execution_count": 7,
     "metadata": {},
     "output_type": "execute_result"
    }
   ],
   "source": [
    "all_metrics"
   ]
  },
  {
   "cell_type": "code",
   "execution_count": 8,
   "id": "048ccf3b",
   "metadata": {},
   "outputs": [
    {
     "data": {
      "application/vnd.jupyter.widget-view+json": {
       "model_id": "4e9d992f0d7d4e3a92dd7b7a835f9a40",
       "version_major": 2,
       "version_minor": 0
      },
      "text/plain": [
       "  0%|          | 0/4 [00:00<?, ?it/s]"
      ]
     },
     "metadata": {},
     "output_type": "display_data"
    }
   ],
   "source": [
    "# For each dataset I want to count how many missing values I have as patterns have been generated stochastically \n",
    "\n",
    "# this is because I want to divide the simulations into low/high missing disregarding pyampute hyperparameters which may not reflect \n",
    "# the true amount of missing\n",
    "\n",
    "missing_ratios = {}\n",
    "missing_ratios_detailed = {}\n",
    "\n",
    "for d in tqdm_notebook(datasets):\n",
    "    missing_ratios[d] = []\n",
    "    missing_ratios_detailed[d] = {}\n",
    "    \n",
    "    for prop in md_param_grid['props']:\n",
    "        for mf_proportion in md_param_grid['mf_proportions']:\n",
    "            for mnar_proportion in md_param_grid['mnar_proportions']:\n",
    "                for seed in range(n_runs):\n",
    "                    \n",
    "                    directory = \"test_data/\"+str(d)+\"/\"+str(prop)+\"_\"+str(mf_proportion)+\"_\"+str(mnar_proportion)\n",
    "                    simulated_data = read_pickle(directory+\"/pipeline_\"+str(seed)+\".pickle\")\n",
    "\n",
    "                    missing_ratio = simulated_data.incomplete_data.isna().sum().sum() / simulated_data.incomplete_data.size\n",
    "                    missing_ratios_detailed[d][(prop,mf_proportion,mnar_proportion,seed)] = missing_ratio\n",
    "                    missing_ratios[d].append(missing_ratio)"
   ]
  },
  {
   "cell_type": "code",
   "execution_count": 9,
   "id": "19799b39",
   "metadata": {},
   "outputs": [
    {
     "data": {
      "text/plain": [
       "160"
      ]
     },
     "execution_count": 9,
     "metadata": {},
     "output_type": "execute_result"
    }
   ],
   "source": [
    "len([v for v in missing_ratios_detailed[15].values() if v >= 0.])"
   ]
  },
  {
   "cell_type": "code",
   "execution_count": null,
   "id": "86b5f3d6",
   "metadata": {},
   "outputs": [],
   "source": [
    "\n"
   ]
  },
  {
   "cell_type": "code",
   "execution_count": 10,
   "id": "d9fbba52",
   "metadata": {},
   "outputs": [
    {
     "data": {
      "image/png": "[encoded data removed]",
      "text/plain": [
       "<Figure size 640x480 with 1 Axes>"
      ]
     },
     "metadata": {},
     "output_type": "display_data"
    }
   ],
   "source": [
    "import matplotlib.pyplot as plt\n",
    "%matplotlib inline\n",
    "\n",
    "x1 = missing_ratios[15]\n",
    "x2 = missing_ratios[17]\n",
    "x3 = missing_ratios[33]\n",
    "x4 = missing_ratios[45]\n",
    "\n",
    "fig, ax = plt.subplots()\n",
    "ax.set_ylabel('Missing ratio')\n",
    "\n",
    "ax.violinplot([x1,x2,x3,x4]) \n",
    "ax.set_xticklabels(['15','17','33','45'])\n",
    "\n",
    "\n",
    "plt.show()"
   ]
  },
  {
   "cell_type": "code",
   "execution_count": 11,
   "id": "5fa00b52",
   "metadata": {},
   "outputs": [
    {
     "data": {
      "application/vnd.jupyter.widget-view+json": {
       "model_id": "cbb8ac93d07c4defaf4622d7f30b5da5",
       "version_major": 2,
       "version_minor": 0
      },
      "text/plain": [
       "Datasets:   0%|          | 0/4 [00:00<?, ?it/s]"
      ]
     },
     "metadata": {},
     "output_type": "display_data"
    }
   ],
   "source": [
    "# I want a dictionary for each method with [d][metrics] = list [] to aggregate results in mean +- std \n",
    "\n",
    "res_unstack_fusemix = {} \n",
    "res_unstack_singleimput = {} \n",
    "res_unstack_singleimput_knn = {} \n",
    "res_unstack_kpod = {} \n",
    "\n",
    "for d in datasets:\n",
    "    res_unstack_fusemix[d] = {}\n",
    "    res_unstack_singleimput[d] = {}\n",
    "    res_unstack_singleimput_knn[d] = {} \n",
    "    res_unstack_kpod[d] = {}\n",
    "\n",
    "    for m in all_metrics:\n",
    "        res_unstack_fusemix[d][m] = []\n",
    "        res_unstack_singleimput[d][m] = []\n",
    "        res_unstack_singleimput_knn[d][m] = []\n",
    "        res_unstack_kpod[d][m] = []\n",
    "        \n",
    "\n",
    "test_counts = {}\n",
    "\n",
    "\n",
    "for d in tqdm_notebook(datasets, desc=\"Datasets\"):\n",
    "    test_counts[d] = 0\n",
    "    for prop in md_param_grid['props']:\n",
    "            for mf_proportion in md_param_grid['mf_proportions']:\n",
    "                for mnar_proportion in md_param_grid['mnar_proportions']:\n",
    "                    for seed in range(n_runs):\n",
    "                        if missing_ratios_detailed[d][(prop,mf_proportion,mnar_proportion,seed)] >= 0.:\n",
    "                            test_counts[d] += 1\n",
    "                            for metric in all_metrics:\n",
    "                                res_unstack_fusemix[d][metric].append(results_fusemix[d][(prop,mf_proportion,mnar_proportion)][metric][seed])\n",
    "                                res_unstack_singleimput[d][metric].append(results_singleimput[d][(prop,mf_proportion,mnar_proportion)][metric][seed])\n",
    "                                res_unstack_singleimput_knn[d][metric].append(results_singleimput_knn[d][(prop,mf_proportion,mnar_proportion)][metric][seed])\n",
    "                                res_unstack_kpod[d][metric].append(results_kpod[d][(prop,mf_proportion,mnar_proportion)][metric][seed]) "
   ]
  },
  {
   "cell_type": "code",
   "execution_count": 12,
   "id": "573ec8f7",
   "metadata": {},
   "outputs": [],
   "source": [
    "sorted_items = sorted(missing_ratios_detailed[15].items(), key=lambda x: x[1])\n",
    "keys = [k for k, v in sorted_items] # sorted values key (prop,mf.....,seed) for missing ratios\n",
    "values = [v for k, v in sorted_items]  # sorted missing ratios                 "
   ]
  },
  {
   "cell_type": "code",
   "execution_count": 13,
   "id": "cff55b5d",
   "metadata": {},
   "outputs": [],
   "source": [
    "# to see performances with different missing ratios I want for each metric this dataframe \n",
    "#          Missing ratio 1 .......... Missing ratio N\n",
    "# method1\n",
    "# method2\n",
    "# method3\n",
    "\n",
    "# collect all rank tables\n",
    "all_ranks = []\n",
    "\n",
    "for d in datasets:\n",
    "    for m in all_metrics:\n",
    "        results_ordered = {\n",
    "            'fusemix': [],\n",
    "            'kpod': [],\n",
    "            'singleimput': [],\n",
    "            'singleimput_knn': []\n",
    "        }\n",
    "\n",
    "        for k in keys:\n",
    "            k_ = (k[0], k[1], k[2])    \n",
    "            results_ordered['fusemix'].append(results_fusemix[d][k_][m][k[3]])\n",
    "            results_ordered['kpod'].append(results_kpod[d][k_][m][k[3]])\n",
    "            results_ordered['singleimput'].append(results_singleimput[d][k_][m][k[3]])\n",
    "            results_ordered['singleimput_knn'].append(results_singleimput_knn[d][k_][m][k[3]])\n",
    "\n",
    "        df = pd.DataFrame(results_ordered).T\n",
    "        df.columns = values  # missing ratios\n",
    "        if m == 'db':\n",
    "            ranks = df.rank(axis=0, ascending=True)\n",
    "        else:\n",
    "            ranks = df.rank(axis=0, ascending=False)\n",
    "        ranks.columns = ranks.columns.astype(float)\n",
    "\n",
    "        all_ranks.append(ranks)\n",
    "\n",
    "# average across datasets + metrics\n",
    "df_mean = pd.concat(all_ranks).groupby(level=0).mean()\n",
    "df_std = pd.concat(all_ranks).groupby(level=0).std()\n"
   ]
  },
  {
   "cell_type": "code",
   "execution_count": 14,
   "id": "e475096a",
   "metadata": {},
   "outputs": [
    {
     "data": {
      "image/png": "[encoded data removed]",
      "text/plain": [
       "<Figure size 1000x600 with 1 Axes>"
      ]
     },
     "metadata": {},
     "output_type": "display_data"
    }
   ],
   "source": [
    "\n",
    "\n",
    "# bin edges (2.5% step)\n",
    "bins = np.arange(0, df_mean.columns.max() + 0.025, 0.025)\n",
    "col_to_bin = pd.cut(df_mean.columns, bins=bins, right=False)\n",
    "\n",
    "\n",
    "df_binned = df_mean.groupby(col_to_bin, axis=1).mean()\n",
    "df_binned = df_binned.dropna(axis=1, how=\"all\")\n",
    "\n",
    "df_std_binned = df_std.groupby(col_to_bin, axis=1).mean()\n",
    "df_std_binned = df_std_binned.dropna(axis=1, how=\"all\")\n",
    "\n",
    "\n",
    "# Use bin midpoints for x-axis\n",
    "x = [interval.mid for interval in df_binned.columns]\n",
    "\n",
    "plt.figure(figsize=(10,6))\n",
    "ax = plt.gca()\n",
    "\n",
    "for method in df_binned.index:\n",
    "    ax.plot(x, df_binned.loc[method], marker=\"o\", label=method)\n",
    "    ax.fill_between(\n",
    "        x,\n",
    "        df_binned.loc[method] - df_std_binned.loc[method],\n",
    "        df_binned.loc[method] + df_std_binned.loc[method],\n",
    "        alpha=0.1\n",
    "    )\n",
    "\n",
    "plt.xlabel(\"Missing ratio\")\n",
    "plt.ylabel(\"Average rank\")\n",
    "plt.title(\"Average ranks with error bands (binned)\")\n",
    "plt.legend()\n",
    "plt.gca().invert_yaxis()  # rank 1 at top\n",
    "plt.savefig(\"output_missing_ratio.png\", dpi = 300)\n",
    "plt.show()"
   ]
  },
  {
   "cell_type": "code",
   "execution_count": 15,
   "id": "85c6ecb8",
   "metadata": {},
   "outputs": [],
   "source": [
    "fusemix_means = pd.DataFrame(res_unstack_fusemix).map(np.mean)\n",
    "singleimput_means = pd.DataFrame(res_unstack_singleimput).map(np.mean)\n",
    "singleimput_knn_means = pd.DataFrame(res_unstack_singleimput_knn).map(np.mean)\n",
    "kpod_means = pd.DataFrame(res_unstack_kpod).map(np.mean)\n",
    "\n",
    "fusemix_std = pd.DataFrame(res_unstack_fusemix).map(np.std)\n",
    "singleimput_std = pd.DataFrame(res_unstack_singleimput).map(np.std)\n",
    "singleimput_knn_std = pd.DataFrame(res_unstack_singleimput_knn).map(np.std)\n",
    "kpod_std = pd.DataFrame(res_unstack_kpod).map(np.std)"
   ]
  },
  {
   "cell_type": "code",
   "execution_count": 27,
   "id": "5d146ecf",
   "metadata": {
    "vscode": {
     "languageId": "javascript"
    }
   },
   "outputs": [],
   "source": [
    "pd.set_option('display.precision', 2)\n",
    "\n",
    "merged = pd.concat([fusemix_means, singleimput_means, singleimput_knn_means,kpod_means], axis=1, keys=[\"fusemix\", \"singleimput_mice\",\"singleimput_knn\",\"kpod\"])\n",
    "merged.columns = merged.columns.swaplevel(0, 1)\n",
    "merged = merged.sort_index(axis=1)\n",
    "\n",
    "merged_std = pd.concat([fusemix_std, singleimput_std, singleimput_knn_std,kpod_std], axis=1, keys=[\"fusemix\", \"singleimput_mice\",\"singleimput_knn\",\"kpod\"])\n",
    "merged_std.columns = merged_std.columns.swaplevel(0, 1)\n",
    "merged_std = merged_std.sort_index(axis=1)\n",
    "\n",
    "assert merged.shape == merged_std.shape\n",
    "assert (merged.columns == merged_std.columns).all()\n",
    "assert (merged.index == merged_std.index).all()\n",
    "\n",
    "merged_pretty = merged.round(3).astype(str) + \" ± \" + merged_std.round(3).astype(str)\n",
    "\n",
    "merged_final = merged.copy()  # keep numeric\n",
    "merged_final_pretty = merged_pretty  # display version\n"
   ]
  },
  {
   "cell_type": "code",
   "execution_count": 28,
   "id": "b5fd7e1d",
   "metadata": {
    "vscode": {
     "languageId": "javascript"
    }
   },
   "outputs": [],
   "source": [
    "merged_final_pretty.loc[:,[15,17]].to_csv(\"output_pretty_15_17.csv\")\n",
    "merged_final_pretty.loc[:,[33,45]].to_csv(\"output_pretty_33_45.csv\")"
   ]
  },
  {
   "cell_type": "code",
   "execution_count": 18,
   "id": "776a4902",
   "metadata": {
    "vscode": {
     "languageId": "javascript"
    }
   },
   "outputs": [
    {
     "data": {
      "text/html": [
       "<div>\n",
       "<style scoped>\n",
       "    .dataframe tbody tr th:only-of-type {\n",
       "        vertical-align: middle;\n",
       "    }\n",
       "\n",
       "    .dataframe tbody tr th {\n",
       "        vertical-align: top;\n",
       "    }\n",
       "\n",
       "    .dataframe thead th {\n",
       "        text-align: right;\n",
       "    }\n",
       "</style>\n",
       "<table border=\"1\" class=\"dataframe\">\n",
       "  <thead>\n",
       "    <tr style=\"text-align: right;\">\n",
       "      <th></th>\n",
       "      <th>fusemix</th>\n",
       "      <th>kpod</th>\n",
       "      <th>singleimput_knn</th>\n",
       "      <th>singleimput_mice</th>\n",
       "    </tr>\n",
       "  </thead>\n",
       "  <tbody>\n",
       "    <tr>\n",
       "      <th>sh</th>\n",
       "      <td>0.400</td>\n",
       "      <td>0.342</td>\n",
       "      <td>0.394</td>\n",
       "      <td>0.402</td>\n",
       "    </tr>\n",
       "    <tr>\n",
       "      <th>ch</th>\n",
       "      <td>672.888</td>\n",
       "      <td>300.245</td>\n",
       "      <td>804.564</td>\n",
       "      <td>567.948</td>\n",
       "    </tr>\n",
       "    <tr>\n",
       "      <th>db</th>\n",
       "      <td>0.713</td>\n",
       "      <td>0.575</td>\n",
       "      <td>0.659</td>\n",
       "      <td>0.773</td>\n",
       "    </tr>\n",
       "    <tr>\n",
       "      <th>ari</th>\n",
       "      <td>0.898</td>\n",
       "      <td>0.120</td>\n",
       "      <td>0.811</td>\n",
       "      <td>0.951</td>\n",
       "    </tr>\n",
       "    <tr>\n",
       "      <th>ami</th>\n",
       "      <td>0.819</td>\n",
       "      <td>0.146</td>\n",
       "      <td>0.713</td>\n",
       "      <td>0.903</td>\n",
       "    </tr>\n",
       "    <tr>\n",
       "      <th>vm</th>\n",
       "      <td>0.819</td>\n",
       "      <td>0.148</td>\n",
       "      <td>0.714</td>\n",
       "      <td>0.903</td>\n",
       "    </tr>\n",
       "    <tr>\n",
       "      <th>cs</th>\n",
       "      <td>0.821</td>\n",
       "      <td>0.288</td>\n",
       "      <td>0.723</td>\n",
       "      <td>0.902</td>\n",
       "    </tr>\n",
       "    <tr>\n",
       "      <th>known_ari</th>\n",
       "      <td>0.781</td>\n",
       "      <td>0.094</td>\n",
       "      <td>0.730</td>\n",
       "      <td>0.719</td>\n",
       "    </tr>\n",
       "    <tr>\n",
       "      <th>known_ami</th>\n",
       "      <td>0.685</td>\n",
       "      <td>0.134</td>\n",
       "      <td>0.643</td>\n",
       "      <td>0.603</td>\n",
       "    </tr>\n",
       "    <tr>\n",
       "      <th>known_vm</th>\n",
       "      <td>0.685</td>\n",
       "      <td>0.136</td>\n",
       "      <td>0.643</td>\n",
       "      <td>0.604</td>\n",
       "    </tr>\n",
       "    <tr>\n",
       "      <th>known_cs</th>\n",
       "      <td>0.696</td>\n",
       "      <td>0.270</td>\n",
       "      <td>0.662</td>\n",
       "      <td>0.612</td>\n",
       "    </tr>\n",
       "  </tbody>\n",
       "</table>\n",
       "</div>"
      ],
      "text/plain": [
       "           fusemix     kpod  singleimput_knn  singleimput_mice\n",
       "sh           0.400    0.342            0.394             0.402\n",
       "ch         672.888  300.245          804.564           567.948\n",
       "db           0.713    0.575            0.659             0.773\n",
       "ari          0.898    0.120            0.811             0.951\n",
       "ami          0.819    0.146            0.713             0.903\n",
       "vm           0.819    0.148            0.714             0.903\n",
       "cs           0.821    0.288            0.723             0.902\n",
       "known_ari    0.781    0.094            0.730             0.719\n",
       "known_ami    0.685    0.134            0.643             0.603\n",
       "known_vm     0.685    0.136            0.643             0.604\n",
       "known_cs     0.696    0.270            0.662             0.612"
      ]
     },
     "execution_count": 18,
     "metadata": {},
     "output_type": "execute_result"
    }
   ],
   "source": [
    "merged[17]"
   ]
  },
  {
   "cell_type": "code",
   "execution_count": 19,
   "id": "3843e236",
   "metadata": {
    "vscode": {
     "languageId": "javascript"
    }
   },
   "outputs": [],
   "source": [
    "\n",
    "\n",
    "def count_best_methods(df, special_min_metrics={\"db\"}):\n",
    "    counts = {}\n",
    "\n",
    "    for dataset in df.columns.levels[0]:\n",
    "        subset = df[dataset]  # columns for this dataset (methods)\n",
    "        for metric, row in subset.iterrows():\n",
    "            if metric in special_min_metrics:\n",
    "                # lower is better\n",
    "                best_methods = row[row == row.min()].index\n",
    "            else:\n",
    "                # higher is better\n",
    "                best_methods = row[row == row.max()].index\n",
    "            for m in best_methods:\n",
    "                counts[m] = counts.get(m, 0) + 1\n",
    "\n",
    "    return pd.Series(counts).sort_values(ascending=False)\n",
    "\n",
    "\n"
   ]
  },
  {
   "cell_type": "code",
   "execution_count": 20,
   "id": "424a05ec",
   "metadata": {
    "vscode": {
     "languageId": "javascript"
    }
   },
   "outputs": [
    {
     "data": {
      "text/plain": [
       "fusemix             23\n",
       "singleimput_knn      8\n",
       "singleimput_mice     8\n",
       "kpod                 5\n",
       "dtype: int64"
      ]
     },
     "execution_count": 20,
     "metadata": {},
     "output_type": "execute_result"
    }
   ],
   "source": [
    "count_best_methods(merged.loc[:,:])\n"
   ]
  },
  {
   "cell_type": "markdown",
   "id": "6b444f63",
   "metadata": {},
   "source": [
    "1. Friedman test: compare multiple algorithms over different datasets\n",
    "\n",
    "for each metric i test across dataset and NAs masks"
   ]
  },
  {
   "cell_type": "code",
   "execution_count": 21,
   "id": "50b7d5f6",
   "metadata": {
    "vscode": {
     "languageId": "javascript"
    }
   },
   "outputs": [
    {
     "name": "stdout",
     "output_type": "stream",
     "text": [
      "Metric: known_ami pval: 0.0\n",
      "Post-hoc values with control: [[1.         0.         0.         0.        ]\n",
      " [0.         1.         0.         0.        ]\n",
      " [0.         0.         1.         0.00594038]\n",
      " [0.         0.         0.00594038 1.        ]]\n",
      "Best method: fusemix\n"
     ]
    }
   ],
   "source": [
    "fusemix_unfold = []\n",
    "kpod_unfold = []\n",
    "singleimput_unfold = []\n",
    "singleimput_knn_unfold = []\n",
    "\n",
    "for m in ['known_ami']:\n",
    "    for d in datasets:\n",
    "        if m == \"db\":\n",
    "            fusemix_unfold += [1/x for x in res_unstack_fusemix[d][m]]\n",
    "            kpod_unfold += [1/x for x in res_unstack_kpod[d][m]]\n",
    "            singleimput_unfold += [1/x for x in res_unstack_singleimput[d][m]]\n",
    "            singleimput_knn_unfold += [1/x for x in res_unstack_singleimput_knn[d][m]]\n",
    "        else:\n",
    "            fusemix_unfold += res_unstack_fusemix[d][m]\n",
    "            kpod_unfold += res_unstack_kpod[d][m]\n",
    "            singleimput_unfold += res_unstack_singleimput[d][m]\n",
    "            singleimput_knn_unfold += res_unstack_singleimput_knn[d][m]\n",
    "\n",
    "    stat, pval = friedmanchisquare(fusemix_unfold, kpod_unfold, singleimput_unfold, singleimput_knn_unfold)\n",
    "    print(f\"Metric: {m} pval: {pval}\")\n",
    "\n",
    "    data = np.column_stack((fusemix_unfold, kpod_unfold, singleimput_unfold,singleimput_knn_unfold))\n",
    "    \n",
    "    methods = [\"fusemix\",\"kpod\",\"single\",\"single_knn\"]\n",
    "    p_values = sp.posthoc_nemenyi_friedman(data)\n",
    "    print(f\"Post-hoc values with control: {p_values.values}\")\n",
    "    print(f\"Best method: {methods[p_values.sum(axis = 1).argmin()]}\")\n",
    "    fusemix_unfold = []\n",
    "    kpod_unfold = []\n",
    "    singleimput_unfold = []\n",
    "    singleimput_knn_unfold = []\n",
    "    \n",
    "\n",
    "    "
   ]
  },
  {
   "cell_type": "code",
   "execution_count": 22,
   "id": "7a09ca2f",
   "metadata": {
    "vscode": {
     "languageId": "javascript"
    }
   },
   "outputs": [
    {
     "data": {
      "text/plain": [
       "0"
      ]
     },
     "execution_count": 22,
     "metadata": {},
     "output_type": "execute_result"
    }
   ],
   "source": [
    "len(fusemix_unfold)"
   ]
  },
  {
   "cell_type": "code",
   "execution_count": 23,
   "id": "1172d437",
   "metadata": {
    "vscode": {
     "languageId": "javascript"
    }
   },
   "outputs": [
    {
     "name": "stdout",
     "output_type": "stream",
     "text": [
      "Empty DataFrame\n",
      "Columns: []\n",
      "Index: []\n"
     ]
    }
   ],
   "source": [
    "data = np.column_stack((fusemix_unfold, kpod_unfold, singleimput_unfold,singleimput_knn_unfold))\n",
    "\n",
    "p_values = sp.posthoc_nemenyi_friedman(data)\n",
    "print(p_values)"
   ]
  },
  {
   "cell_type": "code",
   "execution_count": 24,
   "id": "b66f5bba",
   "metadata": {
    "vscode": {
     "languageId": "javascript"
    }
   },
   "outputs": [
    {
     "ename": "KeyError",
     "evalue": "'singleimput'",
     "output_type": "error",
     "traceback": [
      "\u001b[0;31m---------------------------------------------------------------------------\u001b[0m",
      "\u001b[0;31mKeyError\u001b[0m                                  Traceback (most recent call last)",
      "File \u001b[0;32m~/.conda/envs/fusemix/lib/python3.13/site-packages/pandas/core/indexes/base.py:3812\u001b[0m, in \u001b[0;36mIndex.get_loc\u001b[0;34m(self, key)\u001b[0m\n\u001b[1;32m   3811\u001b[0m \u001b[38;5;28;01mtry\u001b[39;00m:\n\u001b[0;32m-> 3812\u001b[0m     \u001b[38;5;28;01mreturn\u001b[39;00m \u001b[38;5;28mself\u001b[39m\u001b[38;5;241m.\u001b[39m_engine\u001b[38;5;241m.\u001b[39mget_loc(casted_key)\n\u001b[1;32m   3813\u001b[0m \u001b[38;5;28;01mexcept\u001b[39;00m \u001b[38;5;167;01mKeyError\u001b[39;00m \u001b[38;5;28;01mas\u001b[39;00m err:\n",
      "File \u001b[0;32mindex.pyx:167\u001b[0m, in \u001b[0;36mpandas._libs.index.IndexEngine.get_loc\u001b[0;34m()\u001b[0m\n",
      "File \u001b[0;32mindex.pyx:196\u001b[0m, in \u001b[0;36mpandas._libs.index.IndexEngine.get_loc\u001b[0;34m()\u001b[0m\n",
      "File \u001b[0;32mpandas/_libs/hashtable_class_helper.pxi:7088\u001b[0m, in \u001b[0;36mpandas._libs.hashtable.PyObjectHashTable.get_item\u001b[0;34m()\u001b[0m\n",
      "File \u001b[0;32mpandas/_libs/hashtable_class_helper.pxi:7096\u001b[0m, in \u001b[0;36mpandas._libs.hashtable.PyObjectHashTable.get_item\u001b[0;34m()\u001b[0m\n",
      "\u001b[0;31mKeyError\u001b[0m: 'singleimput'",
      "\nThe above exception was the direct cause of the following exception:\n",
      "\u001b[0;31mKeyError\u001b[0m                                  Traceback (most recent call last)",
      "Cell \u001b[0;32mIn[24], line 7\u001b[0m\n\u001b[1;32m      4\u001b[0m \u001b[38;5;28;01mfor\u001b[39;00m m \u001b[38;5;129;01min\u001b[39;00m all_metrics:\n\u001b[1;32m      6\u001b[0m     fusemix_metrics \u001b[38;5;241m=\u001b[39m merged_swapped\u001b[38;5;241m.\u001b[39mloc[m,\u001b[38;5;124m\"\u001b[39m\u001b[38;5;124mfusemix\u001b[39m\u001b[38;5;124m\"\u001b[39m]\u001b[38;5;241m.\u001b[39mvalues\u001b[38;5;241m.\u001b[39mflatten()\n\u001b[0;32m----> 7\u001b[0m     singleimput_metrics \u001b[38;5;241m=\u001b[39m merged_swapped\u001b[38;5;241m.\u001b[39mloc[m,\u001b[38;5;124m\"\u001b[39m\u001b[38;5;124msingleimput\u001b[39m\u001b[38;5;124m\"\u001b[39m]\u001b[38;5;241m.\u001b[39mvalues\u001b[38;5;241m.\u001b[39mflatten()\n\u001b[1;32m      8\u001b[0m     kpod_metrics \u001b[38;5;241m=\u001b[39m merged_swapped\u001b[38;5;241m.\u001b[39mloc[m,\u001b[38;5;124m\"\u001b[39m\u001b[38;5;124mkpod\u001b[39m\u001b[38;5;124m\"\u001b[39m]\u001b[38;5;241m.\u001b[39mvalues\u001b[38;5;241m.\u001b[39mflatten()\n\u001b[1;32m     10\u001b[0m     \u001b[38;5;28mprint\u001b[39m(\u001b[38;5;124mf\u001b[39m\u001b[38;5;124m\"\u001b[39m\u001b[38;5;124mMetric \u001b[39m\u001b[38;5;132;01m{\u001b[39;00mm\u001b[38;5;132;01m}\u001b[39;00m\u001b[38;5;124m pvalue :\u001b[39m\u001b[38;5;132;01m{\u001b[39;00mfriedmanchisquare(fusemix_metrics,\u001b[38;5;250m \u001b[39msingleimput_metrics,\u001b[38;5;250m \u001b[39mkpod_metrics)\u001b[38;5;241m.\u001b[39mpvalue\u001b[38;5;132;01m}\u001b[39;00m\u001b[38;5;124m\"\u001b[39m)\n",
      "File \u001b[0;32m~/.conda/envs/fusemix/lib/python3.13/site-packages/pandas/core/indexing.py:1184\u001b[0m, in \u001b[0;36m_LocationIndexer.__getitem__\u001b[0;34m(self, key)\u001b[0m\n\u001b[1;32m   1182\u001b[0m     \u001b[38;5;28;01mif\u001b[39;00m \u001b[38;5;28mself\u001b[39m\u001b[38;5;241m.\u001b[39m_is_scalar_access(key):\n\u001b[1;32m   1183\u001b[0m         \u001b[38;5;28;01mreturn\u001b[39;00m \u001b[38;5;28mself\u001b[39m\u001b[38;5;241m.\u001b[39mobj\u001b[38;5;241m.\u001b[39m_get_value(\u001b[38;5;241m*\u001b[39mkey, takeable\u001b[38;5;241m=\u001b[39m\u001b[38;5;28mself\u001b[39m\u001b[38;5;241m.\u001b[39m_takeable)\n\u001b[0;32m-> 1184\u001b[0m     \u001b[38;5;28;01mreturn\u001b[39;00m \u001b[38;5;28mself\u001b[39m\u001b[38;5;241m.\u001b[39m_getitem_tuple(key)\n\u001b[1;32m   1185\u001b[0m \u001b[38;5;28;01melse\u001b[39;00m:\n\u001b[1;32m   1186\u001b[0m     \u001b[38;5;66;03m# we by definition only have the 0th axis\u001b[39;00m\n\u001b[1;32m   1187\u001b[0m     axis \u001b[38;5;241m=\u001b[39m \u001b[38;5;28mself\u001b[39m\u001b[38;5;241m.\u001b[39maxis \u001b[38;5;129;01mor\u001b[39;00m \u001b[38;5;241m0\u001b[39m\n",
      "File \u001b[0;32m~/.conda/envs/fusemix/lib/python3.13/site-packages/pandas/core/indexing.py:1368\u001b[0m, in \u001b[0;36m_LocIndexer._getitem_tuple\u001b[0;34m(self, tup)\u001b[0m\n\u001b[1;32m   1366\u001b[0m \u001b[38;5;28;01mwith\u001b[39;00m suppress(IndexingError):\n\u001b[1;32m   1367\u001b[0m     tup \u001b[38;5;241m=\u001b[39m \u001b[38;5;28mself\u001b[39m\u001b[38;5;241m.\u001b[39m_expand_ellipsis(tup)\n\u001b[0;32m-> 1368\u001b[0m     \u001b[38;5;28;01mreturn\u001b[39;00m \u001b[38;5;28mself\u001b[39m\u001b[38;5;241m.\u001b[39m_getitem_lowerdim(tup)\n\u001b[1;32m   1370\u001b[0m \u001b[38;5;66;03m# no multi-index, so validate all of the indexers\u001b[39;00m\n\u001b[1;32m   1371\u001b[0m tup \u001b[38;5;241m=\u001b[39m \u001b[38;5;28mself\u001b[39m\u001b[38;5;241m.\u001b[39m_validate_tuple_indexer(tup)\n",
      "File \u001b[0;32m~/.conda/envs/fusemix/lib/python3.13/site-packages/pandas/core/indexing.py:1089\u001b[0m, in \u001b[0;36m_LocationIndexer._getitem_lowerdim\u001b[0;34m(self, tup)\u001b[0m\n\u001b[1;32m   1087\u001b[0m             \u001b[38;5;28;01mreturn\u001b[39;00m section\n\u001b[1;32m   1088\u001b[0m         \u001b[38;5;66;03m# This is an elided recursive call to iloc/loc\u001b[39;00m\n\u001b[0;32m-> 1089\u001b[0m         \u001b[38;5;28;01mreturn\u001b[39;00m \u001b[38;5;28mgetattr\u001b[39m(section, \u001b[38;5;28mself\u001b[39m\u001b[38;5;241m.\u001b[39mname)[new_key]\n\u001b[1;32m   1091\u001b[0m \u001b[38;5;28;01mraise\u001b[39;00m IndexingError(\u001b[38;5;124m\"\u001b[39m\u001b[38;5;124mnot applicable\u001b[39m\u001b[38;5;124m\"\u001b[39m)\n",
      "File \u001b[0;32m~/.conda/envs/fusemix/lib/python3.13/site-packages/pandas/core/indexing.py:1191\u001b[0m, in \u001b[0;36m_LocationIndexer.__getitem__\u001b[0;34m(self, key)\u001b[0m\n\u001b[1;32m   1189\u001b[0m maybe_callable \u001b[38;5;241m=\u001b[39m com\u001b[38;5;241m.\u001b[39mapply_if_callable(key, \u001b[38;5;28mself\u001b[39m\u001b[38;5;241m.\u001b[39mobj)\n\u001b[1;32m   1190\u001b[0m maybe_callable \u001b[38;5;241m=\u001b[39m \u001b[38;5;28mself\u001b[39m\u001b[38;5;241m.\u001b[39m_check_deprecated_callable_usage(key, maybe_callable)\n\u001b[0;32m-> 1191\u001b[0m \u001b[38;5;28;01mreturn\u001b[39;00m \u001b[38;5;28mself\u001b[39m\u001b[38;5;241m.\u001b[39m_getitem_axis(maybe_callable, axis\u001b[38;5;241m=\u001b[39maxis)\n",
      "File \u001b[0;32m~/.conda/envs/fusemix/lib/python3.13/site-packages/pandas/core/indexing.py:1431\u001b[0m, in \u001b[0;36m_LocIndexer._getitem_axis\u001b[0;34m(self, key, axis)\u001b[0m\n\u001b[1;32m   1429\u001b[0m \u001b[38;5;66;03m# fall thru to straight lookup\u001b[39;00m\n\u001b[1;32m   1430\u001b[0m \u001b[38;5;28mself\u001b[39m\u001b[38;5;241m.\u001b[39m_validate_key(key, axis)\n\u001b[0;32m-> 1431\u001b[0m \u001b[38;5;28;01mreturn\u001b[39;00m \u001b[38;5;28mself\u001b[39m\u001b[38;5;241m.\u001b[39m_get_label(key, axis\u001b[38;5;241m=\u001b[39maxis)\n",
      "File \u001b[0;32m~/.conda/envs/fusemix/lib/python3.13/site-packages/pandas/core/indexing.py:1381\u001b[0m, in \u001b[0;36m_LocIndexer._get_label\u001b[0;34m(self, label, axis)\u001b[0m\n\u001b[1;32m   1379\u001b[0m \u001b[38;5;28;01mdef\u001b[39;00m\u001b[38;5;250m \u001b[39m\u001b[38;5;21m_get_label\u001b[39m(\u001b[38;5;28mself\u001b[39m, label, axis: AxisInt):\n\u001b[1;32m   1380\u001b[0m     \u001b[38;5;66;03m# GH#5567 this will fail if the label is not present in the axis.\u001b[39;00m\n\u001b[0;32m-> 1381\u001b[0m     \u001b[38;5;28;01mreturn\u001b[39;00m \u001b[38;5;28mself\u001b[39m\u001b[38;5;241m.\u001b[39mobj\u001b[38;5;241m.\u001b[39mxs(label, axis\u001b[38;5;241m=\u001b[39maxis)\n",
      "File \u001b[0;32m~/.conda/envs/fusemix/lib/python3.13/site-packages/pandas/core/generic.py:4312\u001b[0m, in \u001b[0;36mNDFrame.xs\u001b[0;34m(self, key, axis, level, drop_level)\u001b[0m\n\u001b[1;32m   4309\u001b[0m     index \u001b[38;5;241m=\u001b[39m \u001b[38;5;28mself\u001b[39m\u001b[38;5;241m.\u001b[39mindex\n\u001b[1;32m   4311\u001b[0m \u001b[38;5;28;01mif\u001b[39;00m \u001b[38;5;28misinstance\u001b[39m(index, MultiIndex):\n\u001b[0;32m-> 4312\u001b[0m     loc, new_index \u001b[38;5;241m=\u001b[39m index\u001b[38;5;241m.\u001b[39m_get_loc_level(key, level\u001b[38;5;241m=\u001b[39m\u001b[38;5;241m0\u001b[39m)\n\u001b[1;32m   4313\u001b[0m     \u001b[38;5;28;01mif\u001b[39;00m \u001b[38;5;129;01mnot\u001b[39;00m drop_level:\n\u001b[1;32m   4314\u001b[0m         \u001b[38;5;28;01mif\u001b[39;00m lib\u001b[38;5;241m.\u001b[39mis_integer(loc):\n\u001b[1;32m   4315\u001b[0m             \u001b[38;5;66;03m# Slice index must be an integer or None\u001b[39;00m\n",
      "File \u001b[0;32m~/.conda/envs/fusemix/lib/python3.13/site-packages/pandas/core/indexes/multi.py:3309\u001b[0m, in \u001b[0;36mMultiIndex._get_loc_level\u001b[0;34m(self, key, level)\u001b[0m\n\u001b[1;32m   3307\u001b[0m         \u001b[38;5;28;01mreturn\u001b[39;00m indexer, maybe_mi_droplevels(indexer, ilevels)\n\u001b[1;32m   3308\u001b[0m \u001b[38;5;28;01melse\u001b[39;00m:\n\u001b[0;32m-> 3309\u001b[0m     indexer \u001b[38;5;241m=\u001b[39m \u001b[38;5;28mself\u001b[39m\u001b[38;5;241m.\u001b[39m_get_level_indexer(key, level\u001b[38;5;241m=\u001b[39mlevel)\n\u001b[1;32m   3310\u001b[0m     \u001b[38;5;28;01mif\u001b[39;00m (\n\u001b[1;32m   3311\u001b[0m         \u001b[38;5;28misinstance\u001b[39m(key, \u001b[38;5;28mstr\u001b[39m)\n\u001b[1;32m   3312\u001b[0m         \u001b[38;5;129;01mand\u001b[39;00m \u001b[38;5;28mself\u001b[39m\u001b[38;5;241m.\u001b[39mlevels[level]\u001b[38;5;241m.\u001b[39m_supports_partial_string_indexing\n\u001b[1;32m   3313\u001b[0m     ):\n\u001b[1;32m   3314\u001b[0m         \u001b[38;5;66;03m# check to see if we did an exact lookup vs sliced\u001b[39;00m\n\u001b[1;32m   3315\u001b[0m         check \u001b[38;5;241m=\u001b[39m \u001b[38;5;28mself\u001b[39m\u001b[38;5;241m.\u001b[39mlevels[level]\u001b[38;5;241m.\u001b[39mget_loc(key)\n",
      "File \u001b[0;32m~/.conda/envs/fusemix/lib/python3.13/site-packages/pandas/core/indexes/multi.py:3410\u001b[0m, in \u001b[0;36mMultiIndex._get_level_indexer\u001b[0;34m(self, key, level, indexer)\u001b[0m\n\u001b[1;32m   3407\u001b[0m         \u001b[38;5;28;01mreturn\u001b[39;00m \u001b[38;5;28mslice\u001b[39m(i, j, step)\n\u001b[1;32m   3409\u001b[0m \u001b[38;5;28;01melse\u001b[39;00m:\n\u001b[0;32m-> 3410\u001b[0m     idx \u001b[38;5;241m=\u001b[39m \u001b[38;5;28mself\u001b[39m\u001b[38;5;241m.\u001b[39m_get_loc_single_level_index(level_index, key)\n\u001b[1;32m   3412\u001b[0m     \u001b[38;5;28;01mif\u001b[39;00m level \u001b[38;5;241m>\u001b[39m \u001b[38;5;241m0\u001b[39m \u001b[38;5;129;01mor\u001b[39;00m \u001b[38;5;28mself\u001b[39m\u001b[38;5;241m.\u001b[39m_lexsort_depth \u001b[38;5;241m==\u001b[39m \u001b[38;5;241m0\u001b[39m:\n\u001b[1;32m   3413\u001b[0m         \u001b[38;5;66;03m# Desired level is not sorted\u001b[39;00m\n\u001b[1;32m   3414\u001b[0m         \u001b[38;5;28;01mif\u001b[39;00m \u001b[38;5;28misinstance\u001b[39m(idx, \u001b[38;5;28mslice\u001b[39m):\n\u001b[1;32m   3415\u001b[0m             \u001b[38;5;66;03m# test_get_loc_partial_timestamp_multiindex\u001b[39;00m\n",
      "File \u001b[0;32m~/.conda/envs/fusemix/lib/python3.13/site-packages/pandas/core/indexes/multi.py:2999\u001b[0m, in \u001b[0;36mMultiIndex._get_loc_single_level_index\u001b[0;34m(self, level_index, key)\u001b[0m\n\u001b[1;32m   2997\u001b[0m     \u001b[38;5;28;01mreturn\u001b[39;00m \u001b[38;5;241m-\u001b[39m\u001b[38;5;241m1\u001b[39m\n\u001b[1;32m   2998\u001b[0m \u001b[38;5;28;01melse\u001b[39;00m:\n\u001b[0;32m-> 2999\u001b[0m     \u001b[38;5;28;01mreturn\u001b[39;00m level_index\u001b[38;5;241m.\u001b[39mget_loc(key)\n",
      "File \u001b[0;32m~/.conda/envs/fusemix/lib/python3.13/site-packages/pandas/core/indexes/base.py:3819\u001b[0m, in \u001b[0;36mIndex.get_loc\u001b[0;34m(self, key)\u001b[0m\n\u001b[1;32m   3814\u001b[0m     \u001b[38;5;28;01mif\u001b[39;00m \u001b[38;5;28misinstance\u001b[39m(casted_key, \u001b[38;5;28mslice\u001b[39m) \u001b[38;5;129;01mor\u001b[39;00m (\n\u001b[1;32m   3815\u001b[0m         \u001b[38;5;28misinstance\u001b[39m(casted_key, abc\u001b[38;5;241m.\u001b[39mIterable)\n\u001b[1;32m   3816\u001b[0m         \u001b[38;5;129;01mand\u001b[39;00m \u001b[38;5;28many\u001b[39m(\u001b[38;5;28misinstance\u001b[39m(x, \u001b[38;5;28mslice\u001b[39m) \u001b[38;5;28;01mfor\u001b[39;00m x \u001b[38;5;129;01min\u001b[39;00m casted_key)\n\u001b[1;32m   3817\u001b[0m     ):\n\u001b[1;32m   3818\u001b[0m         \u001b[38;5;28;01mraise\u001b[39;00m InvalidIndexError(key)\n\u001b[0;32m-> 3819\u001b[0m     \u001b[38;5;28;01mraise\u001b[39;00m \u001b[38;5;167;01mKeyError\u001b[39;00m(key) \u001b[38;5;28;01mfrom\u001b[39;00m\u001b[38;5;250m \u001b[39m\u001b[38;5;21;01merr\u001b[39;00m\n\u001b[1;32m   3820\u001b[0m \u001b[38;5;28;01mexcept\u001b[39;00m \u001b[38;5;167;01mTypeError\u001b[39;00m:\n\u001b[1;32m   3821\u001b[0m     \u001b[38;5;66;03m# If we have a listlike key, _check_indexing_error will raise\u001b[39;00m\n\u001b[1;32m   3822\u001b[0m     \u001b[38;5;66;03m#  InvalidIndexError. Otherwise we fall through and re-raise\u001b[39;00m\n\u001b[1;32m   3823\u001b[0m     \u001b[38;5;66;03m#  the TypeError.\u001b[39;00m\n\u001b[1;32m   3824\u001b[0m     \u001b[38;5;28mself\u001b[39m\u001b[38;5;241m.\u001b[39m_check_indexing_error(key)\n",
      "\u001b[0;31mKeyError\u001b[0m: 'singleimput'"
     ]
    }
   ],
   "source": [
    "merged_swapped = merged.copy()\n",
    "merged_swapped.columns = merged_swapped.columns.swaplevel(0, 1)\n",
    "\n",
    "for m in all_metrics:\n",
    "\n",
    "    fusemix_metrics = merged_swapped.loc[m,\"fusemix\"].values.flatten()\n",
    "    singleimput_metrics = merged_swapped.loc[m,\"singleimput\"].values.flatten()\n",
    "    kpod_metrics = merged_swapped.loc[m,\"kpod\"].values.flatten()\n",
    "        \n",
    "    print(f\"Metric {m} pvalue :{friedmanchisquare(fusemix_metrics, singleimput_metrics, kpod_metrics).pvalue}\")"
   ]
  },
  {
   "cell_type": "code",
   "execution_count": null,
   "id": "59518afb",
   "metadata": {
    "vscode": {
     "languageId": "javascript"
    }
   },
   "outputs": [
    {
     "data": {
      "text/plain": [
       "21"
      ]
     },
     "execution_count": 106,
     "metadata": {},
     "output_type": "execute_result"
    }
   ],
   "source": [
    "len(res_unstack_fusemix[15]['sh'])"
   ]
  }
 ],
 "metadata": {
  "kernelspec": {
   "display_name": "fusemix",
   "language": "python",
   "name": "python3"
  },
  "language_info": {
   "codemirror_mode": {
    "name": "ipython",
    "version": 3
   },
   "file_extension": ".py",
   "mimetype": "text/x-python",
   "name": "python",
   "nbconvert_exporter": "python",
   "pygments_lexer": "ipython3",
   "version": "3.13.5"
  }
 },
 "nbformat": 4,
 "nbformat_minor": 5
}
