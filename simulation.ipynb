{
 "cells": [
  {
   "cell_type": "code",
   "execution_count": 1,
   "id": "initial_id",
   "metadata": {
    "ExecuteTime": {
     "end_time": "2025-07-17T19:39:55.811875Z",
     "start_time": "2025-07-17T19:39:54.122548Z"
    },
    "collapsed": true
   },
   "outputs": [],
   "source": [
    "from fusemix.simulation import Simulation\n",
    "from fusemix.imputation import MultipleImputer\n",
    "from gower import gower_matrix\n",
    "\n",
    "import fusemix.clustering as clustering_utils\n",
    "\n",
    "from sklearn.impute import KNNImputer\n",
    "\n",
    "import warnings\n",
    "import pickle\n",
    "import importlib\n",
    "\n",
    "import pandas as pd\n",
    "\n",
    "from time import sleep \n",
    "from tqdm import tqdm_notebook\n",
    "\n",
    "\n",
    "importlib.reload(clustering_utils)\n",
    "\n",
    "warnings.filterwarnings(\"ignore\")"
   ]
  },
  {
   "cell_type": "code",
   "execution_count": 2,
   "id": "ace6b54efa4d4e74",
   "metadata": {
    "ExecuteTime": {
     "end_time": "2025-07-17T19:39:55.964763Z",
     "start_time": "2025-07-17T19:39:55.961581Z"
    }
   },
   "outputs": [],
   "source": [
    "def read_pickle(path):\n",
    "    with open(path, 'rb') as f:\n",
    "        return pickle.load(f)\n",
    "    \n",
    "\n",
    "def write_pickle(var, path):\n",
    "    with open(path, 'wb') as f:\n",
    "       pickle.dump(var, f)"
   ]
  },
  {
   "cell_type": "code",
   "execution_count": 3,
   "id": "c4c7676d",
   "metadata": {},
   "outputs": [],
   "source": [
    "complete_data = read_pickle(\"test_data/loaded_data.pkl\")"
   ]
  },
  {
   "cell_type": "code",
   "execution_count": 4,
   "id": "d1a00ef4",
   "metadata": {},
   "outputs": [
    {
     "data": {
      "text/plain": [
       "dict_keys(['X', 'y', 'cat_variables', 'cat_variables_in_X', 'cat_mask', 'id', 'X_complete', 'y_complete', 'num_classes'])"
      ]
     },
     "execution_count": 4,
     "metadata": {},
     "output_type": "execute_result"
    }
   ],
   "source": [
    "complete_data[15].keys()"
   ]
  },
  {
   "cell_type": "code",
   "execution_count": 5,
   "id": "c9a13df0c4f95857",
   "metadata": {
    "ExecuteTime": {
     "end_time": "2025-07-17T19:39:55.986458Z",
     "start_time": "2025-07-17T19:39:55.983193Z"
    }
   },
   "outputs": [],
   "source": [
    "\n",
    "\n",
    "datasets = [14,15,17,33,45,915]\n",
    "\n",
    "n_runs = 20\n",
    "\n",
    "md_param_grid = {\n",
    "    'props': [0.75,1.],\n",
    "    'mf_proportions': [0.5,0.75],\n",
    "    'mnar_proportions': [0.,0.25]\n",
    "}\n",
    "\n",
    "#external and internal metrics\n",
    "results_fusemix = {}\n",
    "results_singleimput = {}\n",
    "results_singleimput_knn = {}\n",
    "results_kpod = {}\n",
    "\n",
    "\n",
    "metrics = ['ari','ami','vm','cs','sh','ch','db']\n",
    "internal_metrics = ['sh','ch','db']\n",
    "external_metrics = ['ari','ami','vm','cs']\n",
    "external_metrics_known = []\n",
    "\n",
    "for em in external_metrics:\n",
    "    external_metrics_known.append(\"known_\"+em)\n",
    "\n",
    "\n",
    "result_dumps = [results_fusemix,results_kpod, results_singleimput,results_singleimput_knn]\n",
    "\n"
   ]
  },
  {
   "cell_type": "code",
   "execution_count": 6,
   "id": "41045b43",
   "metadata": {},
   "outputs": [
    {
     "data": {
      "application/vnd.jupyter.widget-view+json": {
       "model_id": "1b2f95921d68409a953e260f87eb1441",
       "version_major": 2,
       "version_minor": 0
      },
      "text/plain": [
       "Datasets:   0%|          | 0/6 [00:00<?, ?it/s]"
      ]
     },
     "metadata": {},
     "output_type": "display_data"
    },
    {
     "data": {
      "application/vnd.jupyter.widget-view+json": {
       "model_id": "a85240632946422a997f3f0c3b604059",
       "version_major": 2,
       "version_minor": 0
      },
      "text/plain": [
       "props:   0%|          | 0/2 [00:00<?, ?it/s]"
      ]
     },
     "metadata": {},
     "output_type": "display_data"
    },
    {
     "data": {
      "application/vnd.jupyter.widget-view+json": {
       "model_id": "9aa1e58f41e44366aa25d5f13b89d8e4",
       "version_major": 2,
       "version_minor": 0
      },
      "text/plain": [
       "mf_proportions:   0%|          | 0/2 [00:00<?, ?it/s]"
      ]
     },
     "metadata": {},
     "output_type": "display_data"
    },
    {
     "data": {
      "application/vnd.jupyter.widget-view+json": {
       "model_id": "a32a86b0bb2e4d1a97c1daad2a608bcd",
       "version_major": 2,
       "version_minor": 0
      },
      "text/plain": [
       "mnar_proportions:   0%|          | 0/2 [00:00<?, ?it/s]"
      ]
     },
     "metadata": {},
     "output_type": "display_data"
    },
    {
     "data": {
      "application/vnd.jupyter.widget-view+json": {
       "model_id": "8c8a9da963f84f6c945bfae306042c6e",
       "version_major": 2,
       "version_minor": 0
      },
      "text/plain": [
       "mnar_proportions:   0%|          | 0/2 [00:00<?, ?it/s]"
      ]
     },
     "metadata": {},
     "output_type": "display_data"
    },
    {
     "data": {
      "application/vnd.jupyter.widget-view+json": {
       "model_id": "1810e7d5ed634bc7b8fbfb1fb5a6bd40",
       "version_major": 2,
       "version_minor": 0
      },
      "text/plain": [
       "mf_proportions:   0%|          | 0/2 [00:00<?, ?it/s]"
      ]
     },
     "metadata": {},
     "output_type": "display_data"
    },
    {
     "data": {
      "application/vnd.jupyter.widget-view+json": {
       "model_id": "cd77edf7a8d34e8993e39c85289392c2",
       "version_major": 2,
       "version_minor": 0
      },
      "text/plain": [
       "mnar_proportions:   0%|          | 0/2 [00:00<?, ?it/s]"
      ]
     },
     "metadata": {},
     "output_type": "display_data"
    },
    {
     "data": {
      "application/vnd.jupyter.widget-view+json": {
       "model_id": "9499f2520d5f435f875063f496209d79",
       "version_major": 2,
       "version_minor": 0
      },
      "text/plain": [
       "mnar_proportions:   0%|          | 0/2 [00:00<?, ?it/s]"
      ]
     },
     "metadata": {},
     "output_type": "display_data"
    },
    {
     "data": {
      "application/vnd.jupyter.widget-view+json": {
       "model_id": "70a49df59b5f4646935de73cf453c357",
       "version_major": 2,
       "version_minor": 0
      },
      "text/plain": [
       "props:   0%|          | 0/2 [00:00<?, ?it/s]"
      ]
     },
     "metadata": {},
     "output_type": "display_data"
    },
    {
     "data": {
      "application/vnd.jupyter.widget-view+json": {
       "model_id": "97ad0a879af24a3c96bfb3e005d05299",
       "version_major": 2,
       "version_minor": 0
      },
      "text/plain": [
       "mf_proportions:   0%|          | 0/2 [00:00<?, ?it/s]"
      ]
     },
     "metadata": {},
     "output_type": "display_data"
    },
    {
     "data": {
      "application/vnd.jupyter.widget-view+json": {
       "model_id": "9e610e1a48164aeb93494ebaf5aabc0e",
       "version_major": 2,
       "version_minor": 0
      },
      "text/plain": [
       "mnar_proportions:   0%|          | 0/2 [00:00<?, ?it/s]"
      ]
     },
     "metadata": {},
     "output_type": "display_data"
    },
    {
     "data": {
      "application/vnd.jupyter.widget-view+json": {
       "model_id": "c43f556c1f964a1ea536a0c4f049da60",
       "version_major": 2,
       "version_minor": 0
      },
      "text/plain": [
       "mnar_proportions:   0%|          | 0/2 [00:00<?, ?it/s]"
      ]
     },
     "metadata": {},
     "output_type": "display_data"
    },
    {
     "data": {
      "application/vnd.jupyter.widget-view+json": {
       "model_id": "9dd357df8d68464d97b4f9541e6af544",
       "version_major": 2,
       "version_minor": 0
      },
      "text/plain": [
       "mf_proportions:   0%|          | 0/2 [00:00<?, ?it/s]"
      ]
     },
     "metadata": {},
     "output_type": "display_data"
    },
    {
     "data": {
      "application/vnd.jupyter.widget-view+json": {
       "model_id": "6a47d75e2bd14b5185af3df3adefd863",
       "version_major": 2,
       "version_minor": 0
      },
      "text/plain": [
       "mnar_proportions:   0%|          | 0/2 [00:00<?, ?it/s]"
      ]
     },
     "metadata": {},
     "output_type": "display_data"
    },
    {
     "data": {
      "application/vnd.jupyter.widget-view+json": {
       "model_id": "14f37466cb7d4a90987fd95e26e3ec22",
       "version_major": 2,
       "version_minor": 0
      },
      "text/plain": [
       "mnar_proportions:   0%|          | 0/2 [00:00<?, ?it/s]"
      ]
     },
     "metadata": {},
     "output_type": "display_data"
    },
    {
     "data": {
      "application/vnd.jupyter.widget-view+json": {
       "model_id": "200bdd17d0154894a8ba3d3cdcea362b",
       "version_major": 2,
       "version_minor": 0
      },
      "text/plain": [
       "props:   0%|          | 0/2 [00:00<?, ?it/s]"
      ]
     },
     "metadata": {},
     "output_type": "display_data"
    },
    {
     "data": {
      "application/vnd.jupyter.widget-view+json": {
       "model_id": "43363a44518b413a96428ccc1e3e7fab",
       "version_major": 2,
       "version_minor": 0
      },
      "text/plain": [
       "mf_proportions:   0%|          | 0/2 [00:00<?, ?it/s]"
      ]
     },
     "metadata": {},
     "output_type": "display_data"
    },
    {
     "data": {
      "application/vnd.jupyter.widget-view+json": {
       "model_id": "5dfecfef832945f289004afe375cba18",
       "version_major": 2,
       "version_minor": 0
      },
      "text/plain": [
       "mnar_proportions:   0%|          | 0/2 [00:00<?, ?it/s]"
      ]
     },
     "metadata": {},
     "output_type": "display_data"
    },
    {
     "data": {
      "application/vnd.jupyter.widget-view+json": {
       "model_id": "5ccb6cb0e6b346cebe69b68f25d325e0",
       "version_major": 2,
       "version_minor": 0
      },
      "text/plain": [
       "mnar_proportions:   0%|          | 0/2 [00:00<?, ?it/s]"
      ]
     },
     "metadata": {},
     "output_type": "display_data"
    },
    {
     "data": {
      "application/vnd.jupyter.widget-view+json": {
       "model_id": "c08d57206aee494288a13f6186eb9c4a",
       "version_major": 2,
       "version_minor": 0
      },
      "text/plain": [
       "mf_proportions:   0%|          | 0/2 [00:00<?, ?it/s]"
      ]
     },
     "metadata": {},
     "output_type": "display_data"
    },
    {
     "data": {
      "application/vnd.jupyter.widget-view+json": {
       "model_id": "54436c2dc63d4d7aa6ed4ffcd10f1895",
       "version_major": 2,
       "version_minor": 0
      },
      "text/plain": [
       "mnar_proportions:   0%|          | 0/2 [00:00<?, ?it/s]"
      ]
     },
     "metadata": {},
     "output_type": "display_data"
    },
    {
     "data": {
      "application/vnd.jupyter.widget-view+json": {
       "model_id": "fa6845318e424cabb3be46217414a2d7",
       "version_major": 2,
       "version_minor": 0
      },
      "text/plain": [
       "mnar_proportions:   0%|          | 0/2 [00:00<?, ?it/s]"
      ]
     },
     "metadata": {},
     "output_type": "display_data"
    },
    {
     "data": {
      "application/vnd.jupyter.widget-view+json": {
       "model_id": "df9a901fa27b4d53b940b00379fb089b",
       "version_major": 2,
       "version_minor": 0
      },
      "text/plain": [
       "props:   0%|          | 0/2 [00:00<?, ?it/s]"
      ]
     },
     "metadata": {},
     "output_type": "display_data"
    },
    {
     "data": {
      "application/vnd.jupyter.widget-view+json": {
       "model_id": "2e16d8f800df481789caf72b0483edcb",
       "version_major": 2,
       "version_minor": 0
      },
      "text/plain": [
       "mf_proportions:   0%|          | 0/2 [00:00<?, ?it/s]"
      ]
     },
     "metadata": {},
     "output_type": "display_data"
    },
    {
     "data": {
      "application/vnd.jupyter.widget-view+json": {
       "model_id": "cde2d362aea04e9c8efaa610ce012728",
       "version_major": 2,
       "version_minor": 0
      },
      "text/plain": [
       "mnar_proportions:   0%|          | 0/2 [00:00<?, ?it/s]"
      ]
     },
     "metadata": {},
     "output_type": "display_data"
    },
    {
     "data": {
      "application/vnd.jupyter.widget-view+json": {
       "model_id": "b21dd5bf993a4db0807a052397a0eba6",
       "version_major": 2,
       "version_minor": 0
      },
      "text/plain": [
       "mnar_proportions:   0%|          | 0/2 [00:00<?, ?it/s]"
      ]
     },
     "metadata": {},
     "output_type": "display_data"
    },
    {
     "data": {
      "application/vnd.jupyter.widget-view+json": {
       "model_id": "56b8c8dcdedf4c5f8393b3e75484c08f",
       "version_major": 2,
       "version_minor": 0
      },
      "text/plain": [
       "mf_proportions:   0%|          | 0/2 [00:00<?, ?it/s]"
      ]
     },
     "metadata": {},
     "output_type": "display_data"
    },
    {
     "data": {
      "application/vnd.jupyter.widget-view+json": {
       "model_id": "db3fc477ccb34d3da340cf936cd3c31e",
       "version_major": 2,
       "version_minor": 0
      },
      "text/plain": [
       "mnar_proportions:   0%|          | 0/2 [00:00<?, ?it/s]"
      ]
     },
     "metadata": {},
     "output_type": "display_data"
    },
    {
     "data": {
      "application/vnd.jupyter.widget-view+json": {
       "model_id": "3af4d77fd2e64146b26f1ae74666f324",
       "version_major": 2,
       "version_minor": 0
      },
      "text/plain": [
       "mnar_proportions:   0%|          | 0/2 [00:00<?, ?it/s]"
      ]
     },
     "metadata": {},
     "output_type": "display_data"
    },
    {
     "data": {
      "application/vnd.jupyter.widget-view+json": {
       "model_id": "da979f6c9bcd4008acf855de2b86e9c5",
       "version_major": 2,
       "version_minor": 0
      },
      "text/plain": [
       "props:   0%|          | 0/2 [00:00<?, ?it/s]"
      ]
     },
     "metadata": {},
     "output_type": "display_data"
    },
    {
     "data": {
      "application/vnd.jupyter.widget-view+json": {
       "model_id": "567707f0c1ba4c97a02ec44c70f7831d",
       "version_major": 2,
       "version_minor": 0
      },
      "text/plain": [
       "mf_proportions:   0%|          | 0/2 [00:00<?, ?it/s]"
      ]
     },
     "metadata": {},
     "output_type": "display_data"
    },
    {
     "data": {
      "application/vnd.jupyter.widget-view+json": {
       "model_id": "5ae62c3ba6f9401fb8885f09458b4e20",
       "version_major": 2,
       "version_minor": 0
      },
      "text/plain": [
       "mnar_proportions:   0%|          | 0/2 [00:00<?, ?it/s]"
      ]
     },
     "metadata": {},
     "output_type": "display_data"
    },
    {
     "data": {
      "application/vnd.jupyter.widget-view+json": {
       "model_id": "4b9ca4dc142940f19594fdc40a946468",
       "version_major": 2,
       "version_minor": 0
      },
      "text/plain": [
       "mnar_proportions:   0%|          | 0/2 [00:00<?, ?it/s]"
      ]
     },
     "metadata": {},
     "output_type": "display_data"
    },
    {
     "data": {
      "application/vnd.jupyter.widget-view+json": {
       "model_id": "870d2519de7f4041b09ffa9458c1140d",
       "version_major": 2,
       "version_minor": 0
      },
      "text/plain": [
       "mf_proportions:   0%|          | 0/2 [00:00<?, ?it/s]"
      ]
     },
     "metadata": {},
     "output_type": "display_data"
    },
    {
     "data": {
      "application/vnd.jupyter.widget-view+json": {
       "model_id": "1c64a43280c0402bad3d409dd1f79f87",
       "version_major": 2,
       "version_minor": 0
      },
      "text/plain": [
       "mnar_proportions:   0%|          | 0/2 [00:00<?, ?it/s]"
      ]
     },
     "metadata": {},
     "output_type": "display_data"
    },
    {
     "data": {
      "application/vnd.jupyter.widget-view+json": {
       "model_id": "5e58a378c72e4527b3bc69a93d7f4c33",
       "version_major": 2,
       "version_minor": 0
      },
      "text/plain": [
       "mnar_proportions:   0%|          | 0/2 [00:00<?, ?it/s]"
      ]
     },
     "metadata": {},
     "output_type": "display_data"
    },
    {
     "data": {
      "application/vnd.jupyter.widget-view+json": {
       "model_id": "ef3694b4561c49cebc9c69c9019ab7d1",
       "version_major": 2,
       "version_minor": 0
      },
      "text/plain": [
       "props:   0%|          | 0/2 [00:00<?, ?it/s]"
      ]
     },
     "metadata": {},
     "output_type": "display_data"
    },
    {
     "data": {
      "application/vnd.jupyter.widget-view+json": {
       "model_id": "76cb01b08766436ca85b5cfdfb8c9fea",
       "version_major": 2,
       "version_minor": 0
      },
      "text/plain": [
       "mf_proportions:   0%|          | 0/2 [00:00<?, ?it/s]"
      ]
     },
     "metadata": {},
     "output_type": "display_data"
    },
    {
     "data": {
      "application/vnd.jupyter.widget-view+json": {
       "model_id": "fa5c47e44de043509e8e4f57321f1f4c",
       "version_major": 2,
       "version_minor": 0
      },
      "text/plain": [
       "mnar_proportions:   0%|          | 0/2 [00:00<?, ?it/s]"
      ]
     },
     "metadata": {},
     "output_type": "display_data"
    },
    {
     "data": {
      "application/vnd.jupyter.widget-view+json": {
       "model_id": "474d7f74493d453eacc72b11b6c1591e",
       "version_major": 2,
       "version_minor": 0
      },
      "text/plain": [
       "mnar_proportions:   0%|          | 0/2 [00:00<?, ?it/s]"
      ]
     },
     "metadata": {},
     "output_type": "display_data"
    },
    {
     "data": {
      "application/vnd.jupyter.widget-view+json": {
       "model_id": "4336f6a9a2374c75817c722f6f43615d",
       "version_major": 2,
       "version_minor": 0
      },
      "text/plain": [
       "mf_proportions:   0%|          | 0/2 [00:00<?, ?it/s]"
      ]
     },
     "metadata": {},
     "output_type": "display_data"
    },
    {
     "data": {
      "application/vnd.jupyter.widget-view+json": {
       "model_id": "b7da1cdb17a440c6a961cbbbfaee4f3e",
       "version_major": 2,
       "version_minor": 0
      },
      "text/plain": [
       "mnar_proportions:   0%|          | 0/2 [00:00<?, ?it/s]"
      ]
     },
     "metadata": {},
     "output_type": "display_data"
    },
    {
     "data": {
      "application/vnd.jupyter.widget-view+json": {
       "model_id": "26ca81817d014b4bb8520645ed6e7afc",
       "version_major": 2,
       "version_minor": 0
      },
      "text/plain": [
       "mnar_proportions:   0%|          | 0/2 [00:00<?, ?it/s]"
      ]
     },
     "metadata": {},
     "output_type": "display_data"
    }
   ],
   "source": [
    "# Initialize all results structures\n",
    "\n",
    "for d in tqdm_notebook(datasets, desc=\"Datasets\"):\n",
    "\n",
    "    results_fusemix[d] = {}\n",
    "    results_kpod[d] = {}\n",
    "    results_singleimput[d] = {}\n",
    "    results_singleimput_knn[d] = {}\n",
    "    \n",
    "    for prop in tqdm_notebook(md_param_grid['props'], desc=\"props\"):\n",
    "        for mf_proportion in tqdm_notebook(md_param_grid['mf_proportions'], desc=\"mf_proportions\"):\n",
    "            for mnar_proportion in tqdm_notebook(md_param_grid['mnar_proportions'], desc=\"mnar_proportions\"):\n",
    "                for dump_ in result_dumps:\n",
    "                    dump_[d][(prop,mf_proportion,mnar_proportion)] = {}\n",
    "                    for m_ in metrics:\n",
    "                        dump_[d][(prop,mf_proportion,mnar_proportion)][m_] = []\n",
    "                    for m_ in external_metrics_known:\n",
    "                        dump_[d][(prop,mf_proportion,mnar_proportion)][m_] = []"
   ]
  },
  {
   "cell_type": "markdown",
   "id": "cf9b1c96",
   "metadata": {},
   "source": [
    "## 1 - MICE-related algorithms"
   ]
  },
  {
   "cell_type": "code",
   "execution_count": 7,
   "id": "0ea37f9c",
   "metadata": {},
   "outputs": [
    {
     "data": {
      "application/vnd.jupyter.widget-view+json": {
       "model_id": "56ca9017c3024b98aebbb23fbd56fc45",
       "version_major": 2,
       "version_minor": 0
      },
      "text/plain": [
       "Datasets:   0%|          | 0/6 [00:00<?, ?it/s]"
      ]
     },
     "metadata": {},
     "output_type": "display_data"
    },
    {
     "data": {
      "application/vnd.jupyter.widget-view+json": {
       "model_id": "543376813339429cb316be268159d681",
       "version_major": 2,
       "version_minor": 0
      },
      "text/plain": [
       "props:   0%|          | 0/2 [00:00<?, ?it/s]"
      ]
     },
     "metadata": {},
     "output_type": "display_data"
    },
    {
     "data": {
      "application/vnd.jupyter.widget-view+json": {
       "model_id": "76f450da8a524f8dad72799b1f8a5530",
       "version_major": 2,
       "version_minor": 0
      },
      "text/plain": [
       "mf_proportions:   0%|          | 0/2 [00:00<?, ?it/s]"
      ]
     },
     "metadata": {},
     "output_type": "display_data"
    },
    {
     "data": {
      "application/vnd.jupyter.widget-view+json": {
       "model_id": "6bcba6f469c74c7bb7b167bcfeedbd88",
       "version_major": 2,
       "version_minor": 0
      },
      "text/plain": [
       "mnar_proportions:   0%|          | 0/2 [00:00<?, ?it/s]"
      ]
     },
     "metadata": {},
     "output_type": "display_data"
    },
    {
     "data": {
      "application/vnd.jupyter.widget-view+json": {
       "model_id": "c31e9ed9f9f247489b9866da1d4f9539",
       "version_major": 2,
       "version_minor": 0
      },
      "text/plain": [
       "seeds:   0%|          | 0/20 [00:00<?, ?it/s]"
      ]
     },
     "metadata": {},
     "output_type": "display_data"
    },
    {
     "data": {
      "application/vnd.jupyter.widget-view+json": {
       "model_id": "67415f0f5c90467fb03abbb94b9e8a05",
       "version_major": 2,
       "version_minor": 0
      },
      "text/plain": [
       "seeds:   0%|          | 0/20 [00:00<?, ?it/s]"
      ]
     },
     "metadata": {},
     "output_type": "display_data"
    },
    {
     "data": {
      "application/vnd.jupyter.widget-view+json": {
       "model_id": "ca45477ce71541bbba696f4564451ea7",
       "version_major": 2,
       "version_minor": 0
      },
      "text/plain": [
       "mnar_proportions:   0%|          | 0/2 [00:00<?, ?it/s]"
      ]
     },
     "metadata": {},
     "output_type": "display_data"
    },
    {
     "data": {
      "application/vnd.jupyter.widget-view+json": {
       "model_id": "f3bf9426e4e94210a1f2e8e3ca13623d",
       "version_major": 2,
       "version_minor": 0
      },
      "text/plain": [
       "seeds:   0%|          | 0/20 [00:00<?, ?it/s]"
      ]
     },
     "metadata": {},
     "output_type": "display_data"
    },
    {
     "data": {
      "application/vnd.jupyter.widget-view+json": {
       "model_id": "4055408eed784700bb99b22ae7888894",
       "version_major": 2,
       "version_minor": 0
      },
      "text/plain": [
       "seeds:   0%|          | 0/20 [00:00<?, ?it/s]"
      ]
     },
     "metadata": {},
     "output_type": "display_data"
    },
    {
     "data": {
      "application/vnd.jupyter.widget-view+json": {
       "model_id": "f1dc829f596048f3ad27f921d82a0506",
       "version_major": 2,
       "version_minor": 0
      },
      "text/plain": [
       "mf_proportions:   0%|          | 0/2 [00:00<?, ?it/s]"
      ]
     },
     "metadata": {},
     "output_type": "display_data"
    },
    {
     "data": {
      "application/vnd.jupyter.widget-view+json": {
       "model_id": "bbe4212208b14682beff6f62390bf8c1",
       "version_major": 2,
       "version_minor": 0
      },
      "text/plain": [
       "mnar_proportions:   0%|          | 0/2 [00:00<?, ?it/s]"
      ]
     },
     "metadata": {},
     "output_type": "display_data"
    },
    {
     "data": {
      "application/vnd.jupyter.widget-view+json": {
       "model_id": "9b05afce7be649608260a521f232a3f6",
       "version_major": 2,
       "version_minor": 0
      },
      "text/plain": [
       "seeds:   0%|          | 0/20 [00:00<?, ?it/s]"
      ]
     },
     "metadata": {},
     "output_type": "display_data"
    },
    {
     "data": {
      "application/vnd.jupyter.widget-view+json": {
       "model_id": "84cd812dcafc458f93b0773ec09cf757",
       "version_major": 2,
       "version_minor": 0
      },
      "text/plain": [
       "seeds:   0%|          | 0/20 [00:00<?, ?it/s]"
      ]
     },
     "metadata": {},
     "output_type": "display_data"
    },
    {
     "data": {
      "application/vnd.jupyter.widget-view+json": {
       "model_id": "3e4fedb670024f1e89b98f70265b92bf",
       "version_major": 2,
       "version_minor": 0
      },
      "text/plain": [
       "mnar_proportions:   0%|          | 0/2 [00:00<?, ?it/s]"
      ]
     },
     "metadata": {},
     "output_type": "display_data"
    },
    {
     "data": {
      "application/vnd.jupyter.widget-view+json": {
       "model_id": "5d57fae984da4452adc864fd52aa8566",
       "version_major": 2,
       "version_minor": 0
      },
      "text/plain": [
       "seeds:   0%|          | 0/20 [00:00<?, ?it/s]"
      ]
     },
     "metadata": {},
     "output_type": "display_data"
    },
    {
     "data": {
      "application/vnd.jupyter.widget-view+json": {
       "model_id": "18b8fb6012e84950bafd3421b4cc5814",
       "version_major": 2,
       "version_minor": 0
      },
      "text/plain": [
       "seeds:   0%|          | 0/20 [00:00<?, ?it/s]"
      ]
     },
     "metadata": {},
     "output_type": "display_data"
    },
    {
     "data": {
      "application/vnd.jupyter.widget-view+json": {
       "model_id": "0088bf1b28354ec1a73a702e3397de11",
       "version_major": 2,
       "version_minor": 0
      },
      "text/plain": [
       "props:   0%|          | 0/2 [00:00<?, ?it/s]"
      ]
     },
     "metadata": {},
     "output_type": "display_data"
    },
    {
     "data": {
      "application/vnd.jupyter.widget-view+json": {
       "model_id": "3f244bca4dd74afaa119c72c66f7dd4c",
       "version_major": 2,
       "version_minor": 0
      },
      "text/plain": [
       "mf_proportions:   0%|          | 0/2 [00:00<?, ?it/s]"
      ]
     },
     "metadata": {},
     "output_type": "display_data"
    },
    {
     "data": {
      "application/vnd.jupyter.widget-view+json": {
       "model_id": "d1abb320839248ad9481ee743d19980a",
       "version_major": 2,
       "version_minor": 0
      },
      "text/plain": [
       "mnar_proportions:   0%|          | 0/2 [00:00<?, ?it/s]"
      ]
     },
     "metadata": {},
     "output_type": "display_data"
    },
    {
     "data": {
      "application/vnd.jupyter.widget-view+json": {
       "model_id": "5f25c791b148480a8b174e3dd8450a10",
       "version_major": 2,
       "version_minor": 0
      },
      "text/plain": [
       "seeds:   0%|          | 0/20 [00:00<?, ?it/s]"
      ]
     },
     "metadata": {},
     "output_type": "display_data"
    },
    {
     "data": {
      "application/vnd.jupyter.widget-view+json": {
       "model_id": "f235db5052a24356b161d23c97bb85ee",
       "version_major": 2,
       "version_minor": 0
      },
      "text/plain": [
       "seeds:   0%|          | 0/20 [00:00<?, ?it/s]"
      ]
     },
     "metadata": {},
     "output_type": "display_data"
    },
    {
     "data": {
      "application/vnd.jupyter.widget-view+json": {
       "model_id": "fd33c050d9344aec883ecc97739fd283",
       "version_major": 2,
       "version_minor": 0
      },
      "text/plain": [
       "mnar_proportions:   0%|          | 0/2 [00:00<?, ?it/s]"
      ]
     },
     "metadata": {},
     "output_type": "display_data"
    },
    {
     "data": {
      "application/vnd.jupyter.widget-view+json": {
       "model_id": "9268eb87d5534980bf72ad8327b0587f",
       "version_major": 2,
       "version_minor": 0
      },
      "text/plain": [
       "seeds:   0%|          | 0/20 [00:00<?, ?it/s]"
      ]
     },
     "metadata": {},
     "output_type": "display_data"
    },
    {
     "data": {
      "application/vnd.jupyter.widget-view+json": {
       "model_id": "abc7d0b0be6a466d8c9daf5d328810af",
       "version_major": 2,
       "version_minor": 0
      },
      "text/plain": [
       "seeds:   0%|          | 0/20 [00:00<?, ?it/s]"
      ]
     },
     "metadata": {},
     "output_type": "display_data"
    },
    {
     "data": {
      "application/vnd.jupyter.widget-view+json": {
       "model_id": "5fe902b2a62c46679716c2dea2017de6",
       "version_major": 2,
       "version_minor": 0
      },
      "text/plain": [
       "mf_proportions:   0%|          | 0/2 [00:00<?, ?it/s]"
      ]
     },
     "metadata": {},
     "output_type": "display_data"
    },
    {
     "data": {
      "application/vnd.jupyter.widget-view+json": {
       "model_id": "2fa487a71214448c90fdcded69528ef9",
       "version_major": 2,
       "version_minor": 0
      },
      "text/plain": [
       "mnar_proportions:   0%|          | 0/2 [00:00<?, ?it/s]"
      ]
     },
     "metadata": {},
     "output_type": "display_data"
    },
    {
     "data": {
      "application/vnd.jupyter.widget-view+json": {
       "model_id": "2d853c45946f44a6aa05506d75fa3f61",
       "version_major": 2,
       "version_minor": 0
      },
      "text/plain": [
       "seeds:   0%|          | 0/20 [00:00<?, ?it/s]"
      ]
     },
     "metadata": {},
     "output_type": "display_data"
    },
    {
     "data": {
      "application/vnd.jupyter.widget-view+json": {
       "model_id": "64f84cef5c514d3c802e49f56e3b8faf",
       "version_major": 2,
       "version_minor": 0
      },
      "text/plain": [
       "seeds:   0%|          | 0/20 [00:00<?, ?it/s]"
      ]
     },
     "metadata": {},
     "output_type": "display_data"
    },
    {
     "data": {
      "application/vnd.jupyter.widget-view+json": {
       "model_id": "6943beba06674cfc95a729b0456f0402",
       "version_major": 2,
       "version_minor": 0
      },
      "text/plain": [
       "mnar_proportions:   0%|          | 0/2 [00:00<?, ?it/s]"
      ]
     },
     "metadata": {},
     "output_type": "display_data"
    },
    {
     "data": {
      "application/vnd.jupyter.widget-view+json": {
       "model_id": "c59c84f5551143c983a2db60f732a058",
       "version_major": 2,
       "version_minor": 0
      },
      "text/plain": [
       "seeds:   0%|          | 0/20 [00:00<?, ?it/s]"
      ]
     },
     "metadata": {},
     "output_type": "display_data"
    },
    {
     "data": {
      "application/vnd.jupyter.widget-view+json": {
       "model_id": "17a611fcc6004aa481cd34fe6bdc548e",
       "version_major": 2,
       "version_minor": 0
      },
      "text/plain": [
       "seeds:   0%|          | 0/20 [00:00<?, ?it/s]"
      ]
     },
     "metadata": {},
     "output_type": "display_data"
    },
    {
     "data": {
      "application/vnd.jupyter.widget-view+json": {
       "model_id": "7252296d7f204277afc6f888c910e3ce",
       "version_major": 2,
       "version_minor": 0
      },
      "text/plain": [
       "props:   0%|          | 0/2 [00:00<?, ?it/s]"
      ]
     },
     "metadata": {},
     "output_type": "display_data"
    },
    {
     "data": {
      "application/vnd.jupyter.widget-view+json": {
       "model_id": "519c743b90a441f4a81cee05effad0ad",
       "version_major": 2,
       "version_minor": 0
      },
      "text/plain": [
       "mf_proportions:   0%|          | 0/2 [00:00<?, ?it/s]"
      ]
     },
     "metadata": {},
     "output_type": "display_data"
    },
    {
     "data": {
      "application/vnd.jupyter.widget-view+json": {
       "model_id": "fcd34a29ba804069b6d7fee48aecdb7e",
       "version_major": 2,
       "version_minor": 0
      },
      "text/plain": [
       "mnar_proportions:   0%|          | 0/2 [00:00<?, ?it/s]"
      ]
     },
     "metadata": {},
     "output_type": "display_data"
    },
    {
     "data": {
      "application/vnd.jupyter.widget-view+json": {
       "model_id": "0ff95d0a654242b5a50f48d75a3f2227",
       "version_major": 2,
       "version_minor": 0
      },
      "text/plain": [
       "seeds:   0%|          | 0/20 [00:00<?, ?it/s]"
      ]
     },
     "metadata": {},
     "output_type": "display_data"
    },
    {
     "data": {
      "application/vnd.jupyter.widget-view+json": {
       "model_id": "ed2937e4fb854746b8478ee2ee07130c",
       "version_major": 2,
       "version_minor": 0
      },
      "text/plain": [
       "seeds:   0%|          | 0/20 [00:00<?, ?it/s]"
      ]
     },
     "metadata": {},
     "output_type": "display_data"
    },
    {
     "data": {
      "application/vnd.jupyter.widget-view+json": {
       "model_id": "bae509a70d0c4eff96bb90e1bc41e51e",
       "version_major": 2,
       "version_minor": 0
      },
      "text/plain": [
       "mnar_proportions:   0%|          | 0/2 [00:00<?, ?it/s]"
      ]
     },
     "metadata": {},
     "output_type": "display_data"
    },
    {
     "data": {
      "application/vnd.jupyter.widget-view+json": {
       "model_id": "3538d17a4cd24235b7a920c773668c46",
       "version_major": 2,
       "version_minor": 0
      },
      "text/plain": [
       "seeds:   0%|          | 0/20 [00:00<?, ?it/s]"
      ]
     },
     "metadata": {},
     "output_type": "display_data"
    },
    {
     "data": {
      "application/vnd.jupyter.widget-view+json": {
       "model_id": "39f797d781234899a4029d8bfb4310fa",
       "version_major": 2,
       "version_minor": 0
      },
      "text/plain": [
       "seeds:   0%|          | 0/20 [00:00<?, ?it/s]"
      ]
     },
     "metadata": {},
     "output_type": "display_data"
    },
    {
     "data": {
      "application/vnd.jupyter.widget-view+json": {
       "model_id": "f347056f81824b38862a3824e0a830f5",
       "version_major": 2,
       "version_minor": 0
      },
      "text/plain": [
       "mf_proportions:   0%|          | 0/2 [00:00<?, ?it/s]"
      ]
     },
     "metadata": {},
     "output_type": "display_data"
    },
    {
     "data": {
      "application/vnd.jupyter.widget-view+json": {
       "model_id": "7501738103ca483a9a0c07532bc4c81b",
       "version_major": 2,
       "version_minor": 0
      },
      "text/plain": [
       "mnar_proportions:   0%|          | 0/2 [00:00<?, ?it/s]"
      ]
     },
     "metadata": {},
     "output_type": "display_data"
    },
    {
     "data": {
      "application/vnd.jupyter.widget-view+json": {
       "model_id": "33a9205a018746a3b1b675c478ec2f7e",
       "version_major": 2,
       "version_minor": 0
      },
      "text/plain": [
       "seeds:   0%|          | 0/20 [00:00<?, ?it/s]"
      ]
     },
     "metadata": {},
     "output_type": "display_data"
    },
    {
     "data": {
      "application/vnd.jupyter.widget-view+json": {
       "model_id": "080085db281b4716b28ea5b06c0926de",
       "version_major": 2,
       "version_minor": 0
      },
      "text/plain": [
       "seeds:   0%|          | 0/20 [00:00<?, ?it/s]"
      ]
     },
     "metadata": {},
     "output_type": "display_data"
    },
    {
     "data": {
      "application/vnd.jupyter.widget-view+json": {
       "model_id": "66e2a30c4e934b269cabee5d8417a9da",
       "version_major": 2,
       "version_minor": 0
      },
      "text/plain": [
       "mnar_proportions:   0%|          | 0/2 [00:00<?, ?it/s]"
      ]
     },
     "metadata": {},
     "output_type": "display_data"
    },
    {
     "data": {
      "application/vnd.jupyter.widget-view+json": {
       "model_id": "bdf52bf6472f49c59692d6208e41c701",
       "version_major": 2,
       "version_minor": 0
      },
      "text/plain": [
       "seeds:   0%|          | 0/20 [00:00<?, ?it/s]"
      ]
     },
     "metadata": {},
     "output_type": "display_data"
    },
    {
     "data": {
      "application/vnd.jupyter.widget-view+json": {
       "model_id": "7825d31073ac4ce792804e4ffa287ad5",
       "version_major": 2,
       "version_minor": 0
      },
      "text/plain": [
       "seeds:   0%|          | 0/20 [00:00<?, ?it/s]"
      ]
     },
     "metadata": {},
     "output_type": "display_data"
    },
    {
     "data": {
      "application/vnd.jupyter.widget-view+json": {
       "model_id": "b812326cb6304b3fb9ae09f6234cae7b",
       "version_major": 2,
       "version_minor": 0
      },
      "text/plain": [
       "props:   0%|          | 0/2 [00:00<?, ?it/s]"
      ]
     },
     "metadata": {},
     "output_type": "display_data"
    },
    {
     "data": {
      "application/vnd.jupyter.widget-view+json": {
       "model_id": "562dbac8ebe944de943d23add701714f",
       "version_major": 2,
       "version_minor": 0
      },
      "text/plain": [
       "mf_proportions:   0%|          | 0/2 [00:00<?, ?it/s]"
      ]
     },
     "metadata": {},
     "output_type": "display_data"
    },
    {
     "data": {
      "application/vnd.jupyter.widget-view+json": {
       "model_id": "db550c8f43e3452f90c471ede9026482",
       "version_major": 2,
       "version_minor": 0
      },
      "text/plain": [
       "mnar_proportions:   0%|          | 0/2 [00:00<?, ?it/s]"
      ]
     },
     "metadata": {},
     "output_type": "display_data"
    },
    {
     "data": {
      "application/vnd.jupyter.widget-view+json": {
       "model_id": "9e11a07026a447bfb47186b37de2777a",
       "version_major": 2,
       "version_minor": 0
      },
      "text/plain": [
       "seeds:   0%|          | 0/20 [00:00<?, ?it/s]"
      ]
     },
     "metadata": {},
     "output_type": "display_data"
    },
    {
     "data": {
      "application/vnd.jupyter.widget-view+json": {
       "model_id": "80b7a7d52378428592aeeb00c36229c9",
       "version_major": 2,
       "version_minor": 0
      },
      "text/plain": [
       "seeds:   0%|          | 0/20 [00:00<?, ?it/s]"
      ]
     },
     "metadata": {},
     "output_type": "display_data"
    },
    {
     "data": {
      "application/vnd.jupyter.widget-view+json": {
       "model_id": "d90e6de902d8404987157c6cc3f009d7",
       "version_major": 2,
       "version_minor": 0
      },
      "text/plain": [
       "mnar_proportions:   0%|          | 0/2 [00:00<?, ?it/s]"
      ]
     },
     "metadata": {},
     "output_type": "display_data"
    },
    {
     "data": {
      "application/vnd.jupyter.widget-view+json": {
       "model_id": "bea0929dd80240648c62dc357dafdc40",
       "version_major": 2,
       "version_minor": 0
      },
      "text/plain": [
       "seeds:   0%|          | 0/20 [00:00<?, ?it/s]"
      ]
     },
     "metadata": {},
     "output_type": "display_data"
    },
    {
     "data": {
      "application/vnd.jupyter.widget-view+json": {
       "model_id": "f8adf982c36240959ffca65b3e5401af",
       "version_major": 2,
       "version_minor": 0
      },
      "text/plain": [
       "seeds:   0%|          | 0/20 [00:00<?, ?it/s]"
      ]
     },
     "metadata": {},
     "output_type": "display_data"
    },
    {
     "data": {
      "application/vnd.jupyter.widget-view+json": {
       "model_id": "f31009305ff342fcbe8a06db7bbfd321",
       "version_major": 2,
       "version_minor": 0
      },
      "text/plain": [
       "mf_proportions:   0%|          | 0/2 [00:00<?, ?it/s]"
      ]
     },
     "metadata": {},
     "output_type": "display_data"
    },
    {
     "data": {
      "application/vnd.jupyter.widget-view+json": {
       "model_id": "71ef83be1e99441a961978f4b9240b31",
       "version_major": 2,
       "version_minor": 0
      },
      "text/plain": [
       "mnar_proportions:   0%|          | 0/2 [00:00<?, ?it/s]"
      ]
     },
     "metadata": {},
     "output_type": "display_data"
    },
    {
     "data": {
      "application/vnd.jupyter.widget-view+json": {
       "model_id": "8e76ce1c5518483890cf79ff8ffd1f8e",
       "version_major": 2,
       "version_minor": 0
      },
      "text/plain": [
       "seeds:   0%|          | 0/20 [00:00<?, ?it/s]"
      ]
     },
     "metadata": {},
     "output_type": "display_data"
    },
    {
     "data": {
      "application/vnd.jupyter.widget-view+json": {
       "model_id": "4b0daf38d87443dd8709597b37419ebf",
       "version_major": 2,
       "version_minor": 0
      },
      "text/plain": [
       "seeds:   0%|          | 0/20 [00:00<?, ?it/s]"
      ]
     },
     "metadata": {},
     "output_type": "display_data"
    },
    {
     "data": {
      "application/vnd.jupyter.widget-view+json": {
       "model_id": "3e311916c8af432b9cc330be74e7067e",
       "version_major": 2,
       "version_minor": 0
      },
      "text/plain": [
       "mnar_proportions:   0%|          | 0/2 [00:00<?, ?it/s]"
      ]
     },
     "metadata": {},
     "output_type": "display_data"
    },
    {
     "data": {
      "application/vnd.jupyter.widget-view+json": {
       "model_id": "102a49f892ef4bbc8749f32f8af861a6",
       "version_major": 2,
       "version_minor": 0
      },
      "text/plain": [
       "seeds:   0%|          | 0/20 [00:00<?, ?it/s]"
      ]
     },
     "metadata": {},
     "output_type": "display_data"
    },
    {
     "data": {
      "application/vnd.jupyter.widget-view+json": {
       "model_id": "bf2ba88d752c426e83990f5237f6edd1",
       "version_major": 2,
       "version_minor": 0
      },
      "text/plain": [
       "seeds:   0%|          | 0/20 [00:00<?, ?it/s]"
      ]
     },
     "metadata": {},
     "output_type": "display_data"
    },
    {
     "data": {
      "application/vnd.jupyter.widget-view+json": {
       "model_id": "8fe3c124d4544e60ad1848706fca3929",
       "version_major": 2,
       "version_minor": 0
      },
      "text/plain": [
       "props:   0%|          | 0/2 [00:00<?, ?it/s]"
      ]
     },
     "metadata": {},
     "output_type": "display_data"
    },
    {
     "data": {
      "application/vnd.jupyter.widget-view+json": {
       "model_id": "97d4eac59f114b36a98bff8b6c2371ab",
       "version_major": 2,
       "version_minor": 0
      },
      "text/plain": [
       "mf_proportions:   0%|          | 0/2 [00:00<?, ?it/s]"
      ]
     },
     "metadata": {},
     "output_type": "display_data"
    },
    {
     "data": {
      "application/vnd.jupyter.widget-view+json": {
       "model_id": "ac97189217524ff6bfbebf89630e42ff",
       "version_major": 2,
       "version_minor": 0
      },
      "text/plain": [
       "mnar_proportions:   0%|          | 0/2 [00:00<?, ?it/s]"
      ]
     },
     "metadata": {},
     "output_type": "display_data"
    },
    {
     "data": {
      "application/vnd.jupyter.widget-view+json": {
       "model_id": "01bb6e2af933421bb92f456f313cf9a5",
       "version_major": 2,
       "version_minor": 0
      },
      "text/plain": [
       "seeds:   0%|          | 0/20 [00:00<?, ?it/s]"
      ]
     },
     "metadata": {},
     "output_type": "display_data"
    },
    {
     "data": {
      "application/vnd.jupyter.widget-view+json": {
       "model_id": "d8d7998f6b2c46aa9c5cb8efeb972d94",
       "version_major": 2,
       "version_minor": 0
      },
      "text/plain": [
       "seeds:   0%|          | 0/20 [00:00<?, ?it/s]"
      ]
     },
     "metadata": {},
     "output_type": "display_data"
    },
    {
     "data": {
      "application/vnd.jupyter.widget-view+json": {
       "model_id": "f3683b8f01ce408cbdcb84576e85877d",
       "version_major": 2,
       "version_minor": 0
      },
      "text/plain": [
       "mnar_proportions:   0%|          | 0/2 [00:00<?, ?it/s]"
      ]
     },
     "metadata": {},
     "output_type": "display_data"
    },
    {
     "data": {
      "application/vnd.jupyter.widget-view+json": {
       "model_id": "22cd4a96116f4571b6b9879e911727a1",
       "version_major": 2,
       "version_minor": 0
      },
      "text/plain": [
       "seeds:   0%|          | 0/20 [00:00<?, ?it/s]"
      ]
     },
     "metadata": {},
     "output_type": "display_data"
    },
    {
     "data": {
      "application/vnd.jupyter.widget-view+json": {
       "model_id": "7a45e6b8098f425994dce1b9921d8101",
       "version_major": 2,
       "version_minor": 0
      },
      "text/plain": [
       "seeds:   0%|          | 0/20 [00:00<?, ?it/s]"
      ]
     },
     "metadata": {},
     "output_type": "display_data"
    },
    {
     "data": {
      "application/vnd.jupyter.widget-view+json": {
       "model_id": "eadd78cc25c64dfa9c1d900ae0eb8a78",
       "version_major": 2,
       "version_minor": 0
      },
      "text/plain": [
       "mf_proportions:   0%|          | 0/2 [00:00<?, ?it/s]"
      ]
     },
     "metadata": {},
     "output_type": "display_data"
    },
    {
     "data": {
      "application/vnd.jupyter.widget-view+json": {
       "model_id": "f9b07d81d3eb4ed8adbcbeeb6ee1db88",
       "version_major": 2,
       "version_minor": 0
      },
      "text/plain": [
       "mnar_proportions:   0%|          | 0/2 [00:00<?, ?it/s]"
      ]
     },
     "metadata": {},
     "output_type": "display_data"
    },
    {
     "data": {
      "application/vnd.jupyter.widget-view+json": {
       "model_id": "8ae12290fff3447686e096b0203d3d58",
       "version_major": 2,
       "version_minor": 0
      },
      "text/plain": [
       "seeds:   0%|          | 0/20 [00:00<?, ?it/s]"
      ]
     },
     "metadata": {},
     "output_type": "display_data"
    },
    {
     "data": {
      "application/vnd.jupyter.widget-view+json": {
       "model_id": "c6eb93e5153c4609b7e1ad095c367c2a",
       "version_major": 2,
       "version_minor": 0
      },
      "text/plain": [
       "seeds:   0%|          | 0/20 [00:00<?, ?it/s]"
      ]
     },
     "metadata": {},
     "output_type": "display_data"
    },
    {
     "data": {
      "application/vnd.jupyter.widget-view+json": {
       "model_id": "5271bab8638d4696b0505e8462d81c6f",
       "version_major": 2,
       "version_minor": 0
      },
      "text/plain": [
       "mnar_proportions:   0%|          | 0/2 [00:00<?, ?it/s]"
      ]
     },
     "metadata": {},
     "output_type": "display_data"
    },
    {
     "data": {
      "application/vnd.jupyter.widget-view+json": {
       "model_id": "dbaa28e3161d4fd08708b79206f08ad7",
       "version_major": 2,
       "version_minor": 0
      },
      "text/plain": [
       "seeds:   0%|          | 0/20 [00:00<?, ?it/s]"
      ]
     },
     "metadata": {},
     "output_type": "display_data"
    },
    {
     "data": {
      "application/vnd.jupyter.widget-view+json": {
       "model_id": "bdeab6e87c0746caaf4bad1a397947ba",
       "version_major": 2,
       "version_minor": 0
      },
      "text/plain": [
       "seeds:   0%|          | 0/20 [00:00<?, ?it/s]"
      ]
     },
     "metadata": {},
     "output_type": "display_data"
    },
    {
     "data": {
      "application/vnd.jupyter.widget-view+json": {
       "model_id": "6326eb3df86942fb9889299f69756ace",
       "version_major": 2,
       "version_minor": 0
      },
      "text/plain": [
       "props:   0%|          | 0/2 [00:00<?, ?it/s]"
      ]
     },
     "metadata": {},
     "output_type": "display_data"
    },
    {
     "data": {
      "application/vnd.jupyter.widget-view+json": {
       "model_id": "f1e389ed7b204f0490046a06ab58d231",
       "version_major": 2,
       "version_minor": 0
      },
      "text/plain": [
       "mf_proportions:   0%|          | 0/2 [00:00<?, ?it/s]"
      ]
     },
     "metadata": {},
     "output_type": "display_data"
    },
    {
     "data": {
      "application/vnd.jupyter.widget-view+json": {
       "model_id": "8c25a1f907604860a32a2923556714a0",
       "version_major": 2,
       "version_minor": 0
      },
      "text/plain": [
       "mnar_proportions:   0%|          | 0/2 [00:00<?, ?it/s]"
      ]
     },
     "metadata": {},
     "output_type": "display_data"
    },
    {
     "data": {
      "application/vnd.jupyter.widget-view+json": {
       "model_id": "888482f933ec4c498c2aa84beefe87f6",
       "version_major": 2,
       "version_minor": 0
      },
      "text/plain": [
       "seeds:   0%|          | 0/20 [00:00<?, ?it/s]"
      ]
     },
     "metadata": {},
     "output_type": "display_data"
    },
    {
     "data": {
      "application/vnd.jupyter.widget-view+json": {
       "model_id": "d1e8dbcf32bb4e9792ff1e42a6cb2af6",
       "version_major": 2,
       "version_minor": 0
      },
      "text/plain": [
       "seeds:   0%|          | 0/20 [00:00<?, ?it/s]"
      ]
     },
     "metadata": {},
     "output_type": "display_data"
    },
    {
     "data": {
      "application/vnd.jupyter.widget-view+json": {
       "model_id": "4cf859441c29499dabf47c5e6e92be22",
       "version_major": 2,
       "version_minor": 0
      },
      "text/plain": [
       "mnar_proportions:   0%|          | 0/2 [00:00<?, ?it/s]"
      ]
     },
     "metadata": {},
     "output_type": "display_data"
    },
    {
     "data": {
      "application/vnd.jupyter.widget-view+json": {
       "model_id": "c26fabd4990041998afea68bc9381e55",
       "version_major": 2,
       "version_minor": 0
      },
      "text/plain": [
       "seeds:   0%|          | 0/20 [00:00<?, ?it/s]"
      ]
     },
     "metadata": {},
     "output_type": "display_data"
    },
    {
     "data": {
      "application/vnd.jupyter.widget-view+json": {
       "model_id": "219a93ac73be48449e63b2ff0f3c6067",
       "version_major": 2,
       "version_minor": 0
      },
      "text/plain": [
       "seeds:   0%|          | 0/20 [00:00<?, ?it/s]"
      ]
     },
     "metadata": {},
     "output_type": "display_data"
    },
    {
     "data": {
      "application/vnd.jupyter.widget-view+json": {
       "model_id": "0301d1d51c5b48808da1120317a9da48",
       "version_major": 2,
       "version_minor": 0
      },
      "text/plain": [
       "mf_proportions:   0%|          | 0/2 [00:00<?, ?it/s]"
      ]
     },
     "metadata": {},
     "output_type": "display_data"
    },
    {
     "data": {
      "application/vnd.jupyter.widget-view+json": {
       "model_id": "5b1ab1646b5a460f869e22004afe3545",
       "version_major": 2,
       "version_minor": 0
      },
      "text/plain": [
       "mnar_proportions:   0%|          | 0/2 [00:00<?, ?it/s]"
      ]
     },
     "metadata": {},
     "output_type": "display_data"
    },
    {
     "data": {
      "application/vnd.jupyter.widget-view+json": {
       "model_id": "a3d089f05fa44af398921be7fb45b95c",
       "version_major": 2,
       "version_minor": 0
      },
      "text/plain": [
       "seeds:   0%|          | 0/20 [00:00<?, ?it/s]"
      ]
     },
     "metadata": {},
     "output_type": "display_data"
    },
    {
     "data": {
      "application/vnd.jupyter.widget-view+json": {
       "model_id": "48b558f82f0440239c86dbf7d610fa64",
       "version_major": 2,
       "version_minor": 0
      },
      "text/plain": [
       "seeds:   0%|          | 0/20 [00:00<?, ?it/s]"
      ]
     },
     "metadata": {},
     "output_type": "display_data"
    },
    {
     "data": {
      "application/vnd.jupyter.widget-view+json": {
       "model_id": "397fdfd4799e4e77823586614cfab703",
       "version_major": 2,
       "version_minor": 0
      },
      "text/plain": [
       "mnar_proportions:   0%|          | 0/2 [00:00<?, ?it/s]"
      ]
     },
     "metadata": {},
     "output_type": "display_data"
    },
    {
     "data": {
      "application/vnd.jupyter.widget-view+json": {
       "model_id": "0fb179f23e92465a80be062d7a1f5ff4",
       "version_major": 2,
       "version_minor": 0
      },
      "text/plain": [
       "seeds:   0%|          | 0/20 [00:00<?, ?it/s]"
      ]
     },
     "metadata": {},
     "output_type": "display_data"
    },
    {
     "data": {
      "application/vnd.jupyter.widget-view+json": {
       "model_id": "f7d84d88c8944f7fa8de161dbe9a049c",
       "version_major": 2,
       "version_minor": 0
      },
      "text/plain": [
       "seeds:   0%|          | 0/20 [00:00<?, ?it/s]"
      ]
     },
     "metadata": {},
     "output_type": "display_data"
    }
   ],
   "source": [
    "\n",
    "\n",
    "for d in tqdm_notebook(datasets, desc=\"Datasets\"):\n",
    "\n",
    "    gower_dist_complete = gower_matrix(complete_data[d]['X_complete'],cat_features=complete_data[d]['cat_mask'])\n",
    "\n",
    "    for prop in tqdm_notebook(md_param_grid['props'], desc=\"props\", leave=False):\n",
    "        for mf_proportion in tqdm_notebook(md_param_grid['mf_proportions'], desc=\"mf_proportions\", leave=False):\n",
    "            for mnar_proportion in tqdm_notebook(md_param_grid['mnar_proportions'], desc=\"mnar_proportions\", leave=False):       \n",
    "                for seed in tqdm_notebook(range(n_runs), desc = \"seeds\", leave=False):\n",
    "                    # read data\n",
    "                    directory = \"test_data/\"+str(d)+\"/\"+str(prop)+\"_\"+str(mf_proportion)+\"_\"+str(mnar_proportion)\n",
    "                    simulated_data = read_pickle(directory+\"/pipeline_\"+str(seed)+\".pickle\")\n",
    "\n",
    "                    # MICE imputation\n",
    "                    mice_imputer = MultipleImputer(incomplete_data=simulated_data.incomplete_data, \n",
    "                                                   seed = seed,\n",
    "                                                   num_imputations=10,\n",
    "                                                   mean_match_candidates=10,\n",
    "                                                   mean_match_strategy = \"Normal\")\n",
    "                    mice_imputer.run_mice(iterations=2, num_estimators = 100)\n",
    "                    \n",
    "                    imputed_data = mice_imputer.get_multiple_imputations()\n",
    "                    single_imputation = imputed_data[0]\n",
    "                    \n",
    "\n",
    "                    fusemix_labels = clustering_utils.compute_fusemix(multiple_imputed_data=imputed_data,\n",
    "                                                  cat_mask=complete_data[d]['cat_mask'],\n",
    "                                                  num_clusters=complete_data[d]['num_classes'],\n",
    "                                                  nn_snf=10,\n",
    "                                                  seed=seed)\n",
    "\n",
    "                    single_imput_labels = clustering_utils.compute_spectral(complete_data=single_imputation,\n",
    "                                                                cat_mask=complete_data[d]['cat_mask'],\n",
    "                                                                num_clusters=complete_data[d]['num_classes'],\n",
    "                                                                seed=seed\n",
    "                                                                )\n",
    "                    \n",
    "\n",
    "                    cca_labels = clustering_utils.compute_spectral(complete_data=complete_data[d]['X_complete'],\n",
    "                                                                cat_mask=complete_data[d]['cat_mask'],\n",
    "                                                                num_clusters=complete_data[d]['num_classes'],\n",
    "                                                                seed=seed\n",
    "                                                                )\n",
    "\n",
    "                    # external metrics calculation and save\n",
    "\n",
    "                    fusemix_res = clustering_utils.external_metrics(cca_labels, fusemix_labels)\n",
    "                    single_imput_res = clustering_utils.external_metrics(cca_labels, single_imput_labels)\n",
    "\n",
    "                    # external on known classes \n",
    "                    fusemix_known = clustering_utils.external_metrics(complete_data[d]['y_complete'].values.flatten(), fusemix_labels)\n",
    "                    single_imput_known = clustering_utils.external_metrics(complete_data[d]['y_complete'].values.flatten(), single_imput_labels)\n",
    "\n",
    "                    # internal metrics calculation and save\n",
    "                    fusemix_internal = clustering_utils.internal_metrics(fusemix_labels, gower_dist_complete, complete_data[d]['X_complete'])\n",
    "                    singleimput_internal = clustering_utils.internal_metrics(single_imput_labels, gower_dist_complete, complete_data[d]['X_complete'])\n",
    "            \n",
    "                    for m_ in external_metrics:\n",
    "                        results_fusemix[d][(prop,mf_proportion,mnar_proportion)][m_].append(fusemix_res[m_])\n",
    "                        results_singleimput[d][(prop,mf_proportion,mnar_proportion)][m_].append(single_imput_res[m_])\n",
    "\n",
    "                    for m_ in external_metrics:\n",
    "                        results_fusemix[d][(prop,mf_proportion,mnar_proportion)][\"known_\"+m_].append(fusemix_known[m_])\n",
    "                        results_singleimput[d][(prop,mf_proportion,mnar_proportion)][\"known_\"+m_].append(single_imput_known[m_])\n",
    "\n",
    "                    for m_ in internal_metrics:\n",
    "                        results_fusemix[d][(prop,mf_proportion,mnar_proportion)][m_].append(fusemix_internal[m_])\n",
    "                        results_singleimput[d][(prop,mf_proportion,mnar_proportion)][m_].append(singleimput_internal[m_])\n",
    "\n",
    "\n",
    "                    sleep(0.01)\n",
    "    # save for dataset\n",
    "    write_pickle(results_fusemix[d],\"output_simulation/\"+str(d)+\"fusemix.pickle\")\n",
    "    write_pickle(results_singleimput[d],\"output_simulation/\"+str(d)+\"singleimput.pickle\")\n",
    "\n",
    "\n",
    "\n",
    "\n",
    "\n",
    "     "
   ]
  },
  {
   "cell_type": "code",
   "execution_count": 8,
   "id": "3143c832",
   "metadata": {},
   "outputs": [],
   "source": [
    "write_pickle(results_fusemix,\"output_simulation/fusemix.pickle\")\n",
    "write_pickle(results_singleimput,\"output_simulation/singleimput.pickle\")\n",
    "\n",
    "               "
   ]
  },
  {
   "cell_type": "code",
   "execution_count": null,
   "id": "a6f53201",
   "metadata": {},
   "outputs": [],
   "source": []
  },
  {
   "cell_type": "markdown",
   "id": "45917111",
   "metadata": {},
   "source": [
    "## 2 - Kpod and KNN \n"
   ]
  },
  {
   "cell_type": "code",
   "execution_count": 9,
   "id": "c6596b04",
   "metadata": {},
   "outputs": [
    {
     "data": {
      "application/vnd.jupyter.widget-view+json": {
       "model_id": "be1a793a1f404699a178927edb8bc67e",
       "version_major": 2,
       "version_minor": 0
      },
      "text/plain": [
       "Datasets:   0%|          | 0/6 [00:00<?, ?it/s]"
      ]
     },
     "metadata": {},
     "output_type": "display_data"
    },
    {
     "data": {
      "application/vnd.jupyter.widget-view+json": {
       "model_id": "e6eba638d3ac49cda0ddef6d16453f5a",
       "version_major": 2,
       "version_minor": 0
      },
      "text/plain": [
       "props:   0%|          | 0/2 [00:00<?, ?it/s]"
      ]
     },
     "metadata": {},
     "output_type": "display_data"
    },
    {
     "data": {
      "application/vnd.jupyter.widget-view+json": {
       "model_id": "92fee3d99bb645dea277b46a3f6fc67c",
       "version_major": 2,
       "version_minor": 0
      },
      "text/plain": [
       "mf_proportions:   0%|          | 0/2 [00:00<?, ?it/s]"
      ]
     },
     "metadata": {},
     "output_type": "display_data"
    },
    {
     "data": {
      "application/vnd.jupyter.widget-view+json": {
       "model_id": "61c470386a274ffab98b707bb3355059",
       "version_major": 2,
       "version_minor": 0
      },
      "text/plain": [
       "mnar_proportions:   0%|          | 0/2 [00:00<?, ?it/s]"
      ]
     },
     "metadata": {},
     "output_type": "display_data"
    },
    {
     "data": {
      "application/vnd.jupyter.widget-view+json": {
       "model_id": "69e8cc947fbb4cf69e9ec872a75c9125",
       "version_major": 2,
       "version_minor": 0
      },
      "text/plain": [
       "seeds:   0%|          | 0/20 [00:00<?, ?it/s]"
      ]
     },
     "metadata": {},
     "output_type": "display_data"
    },
    {
     "data": {
      "application/vnd.jupyter.widget-view+json": {
       "model_id": "ec23dd08f52c4cb09a242ef0f456dc54",
       "version_major": 2,
       "version_minor": 0
      },
      "text/plain": [
       "seeds:   0%|          | 0/20 [00:00<?, ?it/s]"
      ]
     },
     "metadata": {},
     "output_type": "display_data"
    },
    {
     "data": {
      "application/vnd.jupyter.widget-view+json": {
       "model_id": "ce9db41f5f484155856cf7a66623a018",
       "version_major": 2,
       "version_minor": 0
      },
      "text/plain": [
       "mnar_proportions:   0%|          | 0/2 [00:00<?, ?it/s]"
      ]
     },
     "metadata": {},
     "output_type": "display_data"
    },
    {
     "data": {
      "application/vnd.jupyter.widget-view+json": {
       "model_id": "c3dad265636a4fc0b0edbf039c8de32b",
       "version_major": 2,
       "version_minor": 0
      },
      "text/plain": [
       "seeds:   0%|          | 0/20 [00:00<?, ?it/s]"
      ]
     },
     "metadata": {},
     "output_type": "display_data"
    },
    {
     "data": {
      "application/vnd.jupyter.widget-view+json": {
       "model_id": "bf3b2da8196840aa8be12e06c38d9afa",
       "version_major": 2,
       "version_minor": 0
      },
      "text/plain": [
       "seeds:   0%|          | 0/20 [00:00<?, ?it/s]"
      ]
     },
     "metadata": {},
     "output_type": "display_data"
    },
    {
     "data": {
      "application/vnd.jupyter.widget-view+json": {
       "model_id": "d8226feb69a94b1ab7e91e9ddef20dbb",
       "version_major": 2,
       "version_minor": 0
      },
      "text/plain": [
       "mf_proportions:   0%|          | 0/2 [00:00<?, ?it/s]"
      ]
     },
     "metadata": {},
     "output_type": "display_data"
    },
    {
     "data": {
      "application/vnd.jupyter.widget-view+json": {
       "model_id": "0fb85b76ed6441ab9432d5487e8a1e89",
       "version_major": 2,
       "version_minor": 0
      },
      "text/plain": [
       "mnar_proportions:   0%|          | 0/2 [00:00<?, ?it/s]"
      ]
     },
     "metadata": {},
     "output_type": "display_data"
    },
    {
     "data": {
      "application/vnd.jupyter.widget-view+json": {
       "model_id": "70f14471845c487bae3e9c991ffdc238",
       "version_major": 2,
       "version_minor": 0
      },
      "text/plain": [
       "seeds:   0%|          | 0/20 [00:00<?, ?it/s]"
      ]
     },
     "metadata": {},
     "output_type": "display_data"
    },
    {
     "data": {
      "application/vnd.jupyter.widget-view+json": {
       "model_id": "bba1f38ae5674982b1ec588ea663c21c",
       "version_major": 2,
       "version_minor": 0
      },
      "text/plain": [
       "seeds:   0%|          | 0/20 [00:00<?, ?it/s]"
      ]
     },
     "metadata": {},
     "output_type": "display_data"
    },
    {
     "data": {
      "application/vnd.jupyter.widget-view+json": {
       "model_id": "9981a8b23d084c24adf4b81db0f9f188",
       "version_major": 2,
       "version_minor": 0
      },
      "text/plain": [
       "mnar_proportions:   0%|          | 0/2 [00:00<?, ?it/s]"
      ]
     },
     "metadata": {},
     "output_type": "display_data"
    },
    {
     "data": {
      "application/vnd.jupyter.widget-view+json": {
       "model_id": "2fc5f6cfeba04d839809f02c57daa03d",
       "version_major": 2,
       "version_minor": 0
      },
      "text/plain": [
       "seeds:   0%|          | 0/20 [00:00<?, ?it/s]"
      ]
     },
     "metadata": {},
     "output_type": "display_data"
    },
    {
     "data": {
      "application/vnd.jupyter.widget-view+json": {
       "model_id": "86fcf0feb22749a5af094908556acb11",
       "version_major": 2,
       "version_minor": 0
      },
      "text/plain": [
       "seeds:   0%|          | 0/20 [00:00<?, ?it/s]"
      ]
     },
     "metadata": {},
     "output_type": "display_data"
    },
    {
     "data": {
      "application/vnd.jupyter.widget-view+json": {
       "model_id": "f67609789f3642f586bfad0dd8387d3a",
       "version_major": 2,
       "version_minor": 0
      },
      "text/plain": [
       "props:   0%|          | 0/2 [00:00<?, ?it/s]"
      ]
     },
     "metadata": {},
     "output_type": "display_data"
    },
    {
     "data": {
      "application/vnd.jupyter.widget-view+json": {
       "model_id": "e0ef05b1024f465e94c73ae6743e1411",
       "version_major": 2,
       "version_minor": 0
      },
      "text/plain": [
       "mf_proportions:   0%|          | 0/2 [00:00<?, ?it/s]"
      ]
     },
     "metadata": {},
     "output_type": "display_data"
    },
    {
     "data": {
      "application/vnd.jupyter.widget-view+json": {
       "model_id": "6ae4bb73a0f2496497f931b9e7ece143",
       "version_major": 2,
       "version_minor": 0
      },
      "text/plain": [
       "mnar_proportions:   0%|          | 0/2 [00:00<?, ?it/s]"
      ]
     },
     "metadata": {},
     "output_type": "display_data"
    },
    {
     "data": {
      "application/vnd.jupyter.widget-view+json": {
       "model_id": "3c1b637a83be43e083e7e9a940b42579",
       "version_major": 2,
       "version_minor": 0
      },
      "text/plain": [
       "seeds:   0%|          | 0/20 [00:00<?, ?it/s]"
      ]
     },
     "metadata": {},
     "output_type": "display_data"
    },
    {
     "data": {
      "application/vnd.jupyter.widget-view+json": {
       "model_id": "b733f185d09f45a4a29d7492a055a67f",
       "version_major": 2,
       "version_minor": 0
      },
      "text/plain": [
       "seeds:   0%|          | 0/20 [00:00<?, ?it/s]"
      ]
     },
     "metadata": {},
     "output_type": "display_data"
    },
    {
     "data": {
      "application/vnd.jupyter.widget-view+json": {
       "model_id": "f0fa637ab3ac4e0badace30c83c3398e",
       "version_major": 2,
       "version_minor": 0
      },
      "text/plain": [
       "mnar_proportions:   0%|          | 0/2 [00:00<?, ?it/s]"
      ]
     },
     "metadata": {},
     "output_type": "display_data"
    },
    {
     "data": {
      "application/vnd.jupyter.widget-view+json": {
       "model_id": "0b00d946fb5d49f4b2a18869e1536a78",
       "version_major": 2,
       "version_minor": 0
      },
      "text/plain": [
       "seeds:   0%|          | 0/20 [00:00<?, ?it/s]"
      ]
     },
     "metadata": {},
     "output_type": "display_data"
    },
    {
     "data": {
      "application/vnd.jupyter.widget-view+json": {
       "model_id": "34ad625b35554724946fa0ec4ba03d0e",
       "version_major": 2,
       "version_minor": 0
      },
      "text/plain": [
       "seeds:   0%|          | 0/20 [00:00<?, ?it/s]"
      ]
     },
     "metadata": {},
     "output_type": "display_data"
    },
    {
     "data": {
      "application/vnd.jupyter.widget-view+json": {
       "model_id": "db1cee98964c4267b6c6671db66dbf55",
       "version_major": 2,
       "version_minor": 0
      },
      "text/plain": [
       "mf_proportions:   0%|          | 0/2 [00:00<?, ?it/s]"
      ]
     },
     "metadata": {},
     "output_type": "display_data"
    },
    {
     "data": {
      "application/vnd.jupyter.widget-view+json": {
       "model_id": "2aeba6a506fe42dfa617605577f83f0d",
       "version_major": 2,
       "version_minor": 0
      },
      "text/plain": [
       "mnar_proportions:   0%|          | 0/2 [00:00<?, ?it/s]"
      ]
     },
     "metadata": {},
     "output_type": "display_data"
    },
    {
     "data": {
      "application/vnd.jupyter.widget-view+json": {
       "model_id": "e5b9a858a3de4a1eb27fd4349714cafc",
       "version_major": 2,
       "version_minor": 0
      },
      "text/plain": [
       "seeds:   0%|          | 0/20 [00:00<?, ?it/s]"
      ]
     },
     "metadata": {},
     "output_type": "display_data"
    },
    {
     "data": {
      "application/vnd.jupyter.widget-view+json": {
       "model_id": "dfcf3ee865144e8aa63e9a2d6ca205b5",
       "version_major": 2,
       "version_minor": 0
      },
      "text/plain": [
       "seeds:   0%|          | 0/20 [00:00<?, ?it/s]"
      ]
     },
     "metadata": {},
     "output_type": "display_data"
    },
    {
     "data": {
      "application/vnd.jupyter.widget-view+json": {
       "model_id": "cf4e78f0639f440bb606ccc981dca622",
       "version_major": 2,
       "version_minor": 0
      },
      "text/plain": [
       "mnar_proportions:   0%|          | 0/2 [00:00<?, ?it/s]"
      ]
     },
     "metadata": {},
     "output_type": "display_data"
    },
    {
     "data": {
      "application/vnd.jupyter.widget-view+json": {
       "model_id": "205fbebc2ac9450aa6fc68771ef2689d",
       "version_major": 2,
       "version_minor": 0
      },
      "text/plain": [
       "seeds:   0%|          | 0/20 [00:00<?, ?it/s]"
      ]
     },
     "metadata": {},
     "output_type": "display_data"
    },
    {
     "data": {
      "application/vnd.jupyter.widget-view+json": {
       "model_id": "d5a0d8916d53438f9585b5c18c7afbe3",
       "version_major": 2,
       "version_minor": 0
      },
      "text/plain": [
       "seeds:   0%|          | 0/20 [00:00<?, ?it/s]"
      ]
     },
     "metadata": {},
     "output_type": "display_data"
    },
    {
     "data": {
      "application/vnd.jupyter.widget-view+json": {
       "model_id": "45a88e9b789e4d69993545d85db67153",
       "version_major": 2,
       "version_minor": 0
      },
      "text/plain": [
       "props:   0%|          | 0/2 [00:00<?, ?it/s]"
      ]
     },
     "metadata": {},
     "output_type": "display_data"
    },
    {
     "data": {
      "application/vnd.jupyter.widget-view+json": {
       "model_id": "7538bccae4b140a89c76133bb5231556",
       "version_major": 2,
       "version_minor": 0
      },
      "text/plain": [
       "mf_proportions:   0%|          | 0/2 [00:00<?, ?it/s]"
      ]
     },
     "metadata": {},
     "output_type": "display_data"
    },
    {
     "data": {
      "application/vnd.jupyter.widget-view+json": {
       "model_id": "95f992c39c05426dbca198383ae12135",
       "version_major": 2,
       "version_minor": 0
      },
      "text/plain": [
       "mnar_proportions:   0%|          | 0/2 [00:00<?, ?it/s]"
      ]
     },
     "metadata": {},
     "output_type": "display_data"
    },
    {
     "data": {
      "application/vnd.jupyter.widget-view+json": {
       "model_id": "c2b7cc1a29704933bf047c80a46b5613",
       "version_major": 2,
       "version_minor": 0
      },
      "text/plain": [
       "seeds:   0%|          | 0/20 [00:00<?, ?it/s]"
      ]
     },
     "metadata": {},
     "output_type": "display_data"
    },
    {
     "data": {
      "application/vnd.jupyter.widget-view+json": {
       "model_id": "27b0c292f8924bf99675b2de50c8ae10",
       "version_major": 2,
       "version_minor": 0
      },
      "text/plain": [
       "seeds:   0%|          | 0/20 [00:00<?, ?it/s]"
      ]
     },
     "metadata": {},
     "output_type": "display_data"
    },
    {
     "data": {
      "application/vnd.jupyter.widget-view+json": {
       "model_id": "fe95e53720cb481e91da3bb04812a4a1",
       "version_major": 2,
       "version_minor": 0
      },
      "text/plain": [
       "mnar_proportions:   0%|          | 0/2 [00:00<?, ?it/s]"
      ]
     },
     "metadata": {},
     "output_type": "display_data"
    },
    {
     "data": {
      "application/vnd.jupyter.widget-view+json": {
       "model_id": "28e41ac675c545819ea38cb2f614f953",
       "version_major": 2,
       "version_minor": 0
      },
      "text/plain": [
       "seeds:   0%|          | 0/20 [00:00<?, ?it/s]"
      ]
     },
     "metadata": {},
     "output_type": "display_data"
    },
    {
     "data": {
      "application/vnd.jupyter.widget-view+json": {
       "model_id": "1fed2b7625be4dd794767b92d170b1bc",
       "version_major": 2,
       "version_minor": 0
      },
      "text/plain": [
       "seeds:   0%|          | 0/20 [00:00<?, ?it/s]"
      ]
     },
     "metadata": {},
     "output_type": "display_data"
    },
    {
     "data": {
      "application/vnd.jupyter.widget-view+json": {
       "model_id": "a268de77262a4863a126f85b6de72253",
       "version_major": 2,
       "version_minor": 0
      },
      "text/plain": [
       "mf_proportions:   0%|          | 0/2 [00:00<?, ?it/s]"
      ]
     },
     "metadata": {},
     "output_type": "display_data"
    },
    {
     "data": {
      "application/vnd.jupyter.widget-view+json": {
       "model_id": "038ff531ac974a7d9add7ced48de7516",
       "version_major": 2,
       "version_minor": 0
      },
      "text/plain": [
       "mnar_proportions:   0%|          | 0/2 [00:00<?, ?it/s]"
      ]
     },
     "metadata": {},
     "output_type": "display_data"
    },
    {
     "data": {
      "application/vnd.jupyter.widget-view+json": {
       "model_id": "a04c75daa47a411ba8e3e31c8a2724ab",
       "version_major": 2,
       "version_minor": 0
      },
      "text/plain": [
       "seeds:   0%|          | 0/20 [00:00<?, ?it/s]"
      ]
     },
     "metadata": {},
     "output_type": "display_data"
    },
    {
     "data": {
      "application/vnd.jupyter.widget-view+json": {
       "model_id": "016f59a053b54335a94d21538cfce4f8",
       "version_major": 2,
       "version_minor": 0
      },
      "text/plain": [
       "seeds:   0%|          | 0/20 [00:00<?, ?it/s]"
      ]
     },
     "metadata": {},
     "output_type": "display_data"
    },
    {
     "data": {
      "application/vnd.jupyter.widget-view+json": {
       "model_id": "b16cc31cffe24d1881f57eb6e79b4a9a",
       "version_major": 2,
       "version_minor": 0
      },
      "text/plain": [
       "mnar_proportions:   0%|          | 0/2 [00:00<?, ?it/s]"
      ]
     },
     "metadata": {},
     "output_type": "display_data"
    },
    {
     "data": {
      "application/vnd.jupyter.widget-view+json": {
       "model_id": "5b92ee0c0b574415b0f30a3e89dd506b",
       "version_major": 2,
       "version_minor": 0
      },
      "text/plain": [
       "seeds:   0%|          | 0/20 [00:00<?, ?it/s]"
      ]
     },
     "metadata": {},
     "output_type": "display_data"
    },
    {
     "data": {
      "application/vnd.jupyter.widget-view+json": {
       "model_id": "4ffcd158b1fe40a0b9c61eb538f8de54",
       "version_major": 2,
       "version_minor": 0
      },
      "text/plain": [
       "seeds:   0%|          | 0/20 [00:00<?, ?it/s]"
      ]
     },
     "metadata": {},
     "output_type": "display_data"
    },
    {
     "data": {
      "application/vnd.jupyter.widget-view+json": {
       "model_id": "62ad0bb28afd48ceb44aec28f860f63c",
       "version_major": 2,
       "version_minor": 0
      },
      "text/plain": [
       "props:   0%|          | 0/2 [00:00<?, ?it/s]"
      ]
     },
     "metadata": {},
     "output_type": "display_data"
    },
    {
     "data": {
      "application/vnd.jupyter.widget-view+json": {
       "model_id": "102cd5e1056d4b2e80bae5d6138e2209",
       "version_major": 2,
       "version_minor": 0
      },
      "text/plain": [
       "mf_proportions:   0%|          | 0/2 [00:00<?, ?it/s]"
      ]
     },
     "metadata": {},
     "output_type": "display_data"
    },
    {
     "data": {
      "application/vnd.jupyter.widget-view+json": {
       "model_id": "27714540fb004739a67062934718f982",
       "version_major": 2,
       "version_minor": 0
      },
      "text/plain": [
       "mnar_proportions:   0%|          | 0/2 [00:00<?, ?it/s]"
      ]
     },
     "metadata": {},
     "output_type": "display_data"
    },
    {
     "data": {
      "application/vnd.jupyter.widget-view+json": {
       "model_id": "fb89c3436f2446a0866f77eec9680dfc",
       "version_major": 2,
       "version_minor": 0
      },
      "text/plain": [
       "seeds:   0%|          | 0/20 [00:00<?, ?it/s]"
      ]
     },
     "metadata": {},
     "output_type": "display_data"
    },
    {
     "data": {
      "application/vnd.jupyter.widget-view+json": {
       "model_id": "1bfe7b8a6cf44395aff169c3b6a7ead8",
       "version_major": 2,
       "version_minor": 0
      },
      "text/plain": [
       "seeds:   0%|          | 0/20 [00:00<?, ?it/s]"
      ]
     },
     "metadata": {},
     "output_type": "display_data"
    },
    {
     "data": {
      "application/vnd.jupyter.widget-view+json": {
       "model_id": "54c764a1c7e14717a6b977bd4877e78d",
       "version_major": 2,
       "version_minor": 0
      },
      "text/plain": [
       "mnar_proportions:   0%|          | 0/2 [00:00<?, ?it/s]"
      ]
     },
     "metadata": {},
     "output_type": "display_data"
    },
    {
     "data": {
      "application/vnd.jupyter.widget-view+json": {
       "model_id": "eb85ebad2af64e19a007f0bb5b5d5fcc",
       "version_major": 2,
       "version_minor": 0
      },
      "text/plain": [
       "seeds:   0%|          | 0/20 [00:00<?, ?it/s]"
      ]
     },
     "metadata": {},
     "output_type": "display_data"
    },
    {
     "data": {
      "application/vnd.jupyter.widget-view+json": {
       "model_id": "55bd05d935ac444abe8be865f867e8d4",
       "version_major": 2,
       "version_minor": 0
      },
      "text/plain": [
       "seeds:   0%|          | 0/20 [00:00<?, ?it/s]"
      ]
     },
     "metadata": {},
     "output_type": "display_data"
    },
    {
     "data": {
      "application/vnd.jupyter.widget-view+json": {
       "model_id": "524e31260bbb41889aa9a57ba51aa53d",
       "version_major": 2,
       "version_minor": 0
      },
      "text/plain": [
       "mf_proportions:   0%|          | 0/2 [00:00<?, ?it/s]"
      ]
     },
     "metadata": {},
     "output_type": "display_data"
    },
    {
     "data": {
      "application/vnd.jupyter.widget-view+json": {
       "model_id": "1ee6bec3a4aa458baee07d6a20df3276",
       "version_major": 2,
       "version_minor": 0
      },
      "text/plain": [
       "mnar_proportions:   0%|          | 0/2 [00:00<?, ?it/s]"
      ]
     },
     "metadata": {},
     "output_type": "display_data"
    },
    {
     "data": {
      "application/vnd.jupyter.widget-view+json": {
       "model_id": "d79e8d81f07f478d972f939bdd67e492",
       "version_major": 2,
       "version_minor": 0
      },
      "text/plain": [
       "seeds:   0%|          | 0/20 [00:00<?, ?it/s]"
      ]
     },
     "metadata": {},
     "output_type": "display_data"
    },
    {
     "data": {
      "application/vnd.jupyter.widget-view+json": {
       "model_id": "ebbe5bb740814520837bc239cd9ab6a9",
       "version_major": 2,
       "version_minor": 0
      },
      "text/plain": [
       "seeds:   0%|          | 0/20 [00:00<?, ?it/s]"
      ]
     },
     "metadata": {},
     "output_type": "display_data"
    },
    {
     "data": {
      "application/vnd.jupyter.widget-view+json": {
       "model_id": "3b3c41428516436992844cffe4e8cc7c",
       "version_major": 2,
       "version_minor": 0
      },
      "text/plain": [
       "mnar_proportions:   0%|          | 0/2 [00:00<?, ?it/s]"
      ]
     },
     "metadata": {},
     "output_type": "display_data"
    },
    {
     "data": {
      "application/vnd.jupyter.widget-view+json": {
       "model_id": "70936a6ca9db4558b6fcb0436ed16c6e",
       "version_major": 2,
       "version_minor": 0
      },
      "text/plain": [
       "seeds:   0%|          | 0/20 [00:00<?, ?it/s]"
      ]
     },
     "metadata": {},
     "output_type": "display_data"
    },
    {
     "data": {
      "application/vnd.jupyter.widget-view+json": {
       "model_id": "a603565edc934f68b73a5b6cddc2ce7b",
       "version_major": 2,
       "version_minor": 0
      },
      "text/plain": [
       "seeds:   0%|          | 0/20 [00:00<?, ?it/s]"
      ]
     },
     "metadata": {},
     "output_type": "display_data"
    },
    {
     "data": {
      "application/vnd.jupyter.widget-view+json": {
       "model_id": "c5362966a9e04c07aa4d772cfd534c8b",
       "version_major": 2,
       "version_minor": 0
      },
      "text/plain": [
       "props:   0%|          | 0/2 [00:00<?, ?it/s]"
      ]
     },
     "metadata": {},
     "output_type": "display_data"
    },
    {
     "data": {
      "application/vnd.jupyter.widget-view+json": {
       "model_id": "022c1266fe9e41b3884181a323aa0940",
       "version_major": 2,
       "version_minor": 0
      },
      "text/plain": [
       "mf_proportions:   0%|          | 0/2 [00:00<?, ?it/s]"
      ]
     },
     "metadata": {},
     "output_type": "display_data"
    },
    {
     "data": {
      "application/vnd.jupyter.widget-view+json": {
       "model_id": "06c97b970910403a8e1d6e3c8924a78f",
       "version_major": 2,
       "version_minor": 0
      },
      "text/plain": [
       "mnar_proportions:   0%|          | 0/2 [00:00<?, ?it/s]"
      ]
     },
     "metadata": {},
     "output_type": "display_data"
    },
    {
     "data": {
      "application/vnd.jupyter.widget-view+json": {
       "model_id": "e0aaca0d7fcf4eff8c4873ab4ac4b226",
       "version_major": 2,
       "version_minor": 0
      },
      "text/plain": [
       "seeds:   0%|          | 0/20 [00:00<?, ?it/s]"
      ]
     },
     "metadata": {},
     "output_type": "display_data"
    },
    {
     "data": {
      "application/vnd.jupyter.widget-view+json": {
       "model_id": "f4cdb89191a14453b72bdce7b12aac42",
       "version_major": 2,
       "version_minor": 0
      },
      "text/plain": [
       "seeds:   0%|          | 0/20 [00:00<?, ?it/s]"
      ]
     },
     "metadata": {},
     "output_type": "display_data"
    },
    {
     "data": {
      "application/vnd.jupyter.widget-view+json": {
       "model_id": "14fd005855c741b88a54b299fada1cb9",
       "version_major": 2,
       "version_minor": 0
      },
      "text/plain": [
       "mnar_proportions:   0%|          | 0/2 [00:00<?, ?it/s]"
      ]
     },
     "metadata": {},
     "output_type": "display_data"
    },
    {
     "data": {
      "application/vnd.jupyter.widget-view+json": {
       "model_id": "101b4e8b2c184cd5be66b3440e5061e7",
       "version_major": 2,
       "version_minor": 0
      },
      "text/plain": [
       "seeds:   0%|          | 0/20 [00:00<?, ?it/s]"
      ]
     },
     "metadata": {},
     "output_type": "display_data"
    },
    {
     "data": {
      "application/vnd.jupyter.widget-view+json": {
       "model_id": "fdffb45a1fab482cafdd2252de042462",
       "version_major": 2,
       "version_minor": 0
      },
      "text/plain": [
       "seeds:   0%|          | 0/20 [00:00<?, ?it/s]"
      ]
     },
     "metadata": {},
     "output_type": "display_data"
    },
    {
     "data": {
      "application/vnd.jupyter.widget-view+json": {
       "model_id": "44ddf588906e4d1eab1c303b785d0980",
       "version_major": 2,
       "version_minor": 0
      },
      "text/plain": [
       "mf_proportions:   0%|          | 0/2 [00:00<?, ?it/s]"
      ]
     },
     "metadata": {},
     "output_type": "display_data"
    },
    {
     "data": {
      "application/vnd.jupyter.widget-view+json": {
       "model_id": "9f1f2db397324615acbda8ef1acfbfef",
       "version_major": 2,
       "version_minor": 0
      },
      "text/plain": [
       "mnar_proportions:   0%|          | 0/2 [00:00<?, ?it/s]"
      ]
     },
     "metadata": {},
     "output_type": "display_data"
    },
    {
     "data": {
      "application/vnd.jupyter.widget-view+json": {
       "model_id": "a7cc4f44d9534f4bb35e580317ffe4ac",
       "version_major": 2,
       "version_minor": 0
      },
      "text/plain": [
       "seeds:   0%|          | 0/20 [00:00<?, ?it/s]"
      ]
     },
     "metadata": {},
     "output_type": "display_data"
    },
    {
     "data": {
      "application/vnd.jupyter.widget-view+json": {
       "model_id": "5c228169727b4c14858078f2945c4569",
       "version_major": 2,
       "version_minor": 0
      },
      "text/plain": [
       "seeds:   0%|          | 0/20 [00:00<?, ?it/s]"
      ]
     },
     "metadata": {},
     "output_type": "display_data"
    },
    {
     "data": {
      "application/vnd.jupyter.widget-view+json": {
       "model_id": "c4a30e8e2cca4aad96e53d2c895f6c8c",
       "version_major": 2,
       "version_minor": 0
      },
      "text/plain": [
       "mnar_proportions:   0%|          | 0/2 [00:00<?, ?it/s]"
      ]
     },
     "metadata": {},
     "output_type": "display_data"
    },
    {
     "data": {
      "application/vnd.jupyter.widget-view+json": {
       "model_id": "ac63367c6a164355be80117d1e823c8b",
       "version_major": 2,
       "version_minor": 0
      },
      "text/plain": [
       "seeds:   0%|          | 0/20 [00:00<?, ?it/s]"
      ]
     },
     "metadata": {},
     "output_type": "display_data"
    },
    {
     "data": {
      "application/vnd.jupyter.widget-view+json": {
       "model_id": "0e7871d64b104b36a510c7e7fdb11d12",
       "version_major": 2,
       "version_minor": 0
      },
      "text/plain": [
       "seeds:   0%|          | 0/20 [00:00<?, ?it/s]"
      ]
     },
     "metadata": {},
     "output_type": "display_data"
    },
    {
     "data": {
      "application/vnd.jupyter.widget-view+json": {
       "model_id": "5ed1b85df769406e965f2ce9b494f95e",
       "version_major": 2,
       "version_minor": 0
      },
      "text/plain": [
       "props:   0%|          | 0/2 [00:00<?, ?it/s]"
      ]
     },
     "metadata": {},
     "output_type": "display_data"
    },
    {
     "data": {
      "application/vnd.jupyter.widget-view+json": {
       "model_id": "0254e288f33b44828991342f296786a9",
       "version_major": 2,
       "version_minor": 0
      },
      "text/plain": [
       "mf_proportions:   0%|          | 0/2 [00:00<?, ?it/s]"
      ]
     },
     "metadata": {},
     "output_type": "display_data"
    },
    {
     "data": {
      "application/vnd.jupyter.widget-view+json": {
       "model_id": "be640291e98244b1b41c88bb1d1f5428",
       "version_major": 2,
       "version_minor": 0
      },
      "text/plain": [
       "mnar_proportions:   0%|          | 0/2 [00:00<?, ?it/s]"
      ]
     },
     "metadata": {},
     "output_type": "display_data"
    },
    {
     "data": {
      "application/vnd.jupyter.widget-view+json": {
       "model_id": "313aa0fe881848b880636f592872b987",
       "version_major": 2,
       "version_minor": 0
      },
      "text/plain": [
       "seeds:   0%|          | 0/20 [00:00<?, ?it/s]"
      ]
     },
     "metadata": {},
     "output_type": "display_data"
    },
    {
     "data": {
      "application/vnd.jupyter.widget-view+json": {
       "model_id": "d893896b6a604aa69d970d338ed45438",
       "version_major": 2,
       "version_minor": 0
      },
      "text/plain": [
       "seeds:   0%|          | 0/20 [00:00<?, ?it/s]"
      ]
     },
     "metadata": {},
     "output_type": "display_data"
    },
    {
     "data": {
      "application/vnd.jupyter.widget-view+json": {
       "model_id": "f5c3ddb9cd3046ca9de3cf406b257493",
       "version_major": 2,
       "version_minor": 0
      },
      "text/plain": [
       "mnar_proportions:   0%|          | 0/2 [00:00<?, ?it/s]"
      ]
     },
     "metadata": {},
     "output_type": "display_data"
    },
    {
     "data": {
      "application/vnd.jupyter.widget-view+json": {
       "model_id": "421146f932d0455785df2f7676d0262d",
       "version_major": 2,
       "version_minor": 0
      },
      "text/plain": [
       "seeds:   0%|          | 0/20 [00:00<?, ?it/s]"
      ]
     },
     "metadata": {},
     "output_type": "display_data"
    },
    {
     "data": {
      "application/vnd.jupyter.widget-view+json": {
       "model_id": "190d658823fc4de5917bef354cb896d2",
       "version_major": 2,
       "version_minor": 0
      },
      "text/plain": [
       "seeds:   0%|          | 0/20 [00:00<?, ?it/s]"
      ]
     },
     "metadata": {},
     "output_type": "display_data"
    },
    {
     "data": {
      "application/vnd.jupyter.widget-view+json": {
       "model_id": "182822c738a34e65b9d90d4ac62ae42e",
       "version_major": 2,
       "version_minor": 0
      },
      "text/plain": [
       "mf_proportions:   0%|          | 0/2 [00:00<?, ?it/s]"
      ]
     },
     "metadata": {},
     "output_type": "display_data"
    },
    {
     "data": {
      "application/vnd.jupyter.widget-view+json": {
       "model_id": "503cfad0d5fb46099cd840ac368b61e6",
       "version_major": 2,
       "version_minor": 0
      },
      "text/plain": [
       "mnar_proportions:   0%|          | 0/2 [00:00<?, ?it/s]"
      ]
     },
     "metadata": {},
     "output_type": "display_data"
    },
    {
     "data": {
      "application/vnd.jupyter.widget-view+json": {
       "model_id": "61293aea54964642b60e408697f6d2f0",
       "version_major": 2,
       "version_minor": 0
      },
      "text/plain": [
       "seeds:   0%|          | 0/20 [00:00<?, ?it/s]"
      ]
     },
     "metadata": {},
     "output_type": "display_data"
    },
    {
     "data": {
      "application/vnd.jupyter.widget-view+json": {
       "model_id": "18042d5f51474591ab82db2a11a0df28",
       "version_major": 2,
       "version_minor": 0
      },
      "text/plain": [
       "seeds:   0%|          | 0/20 [00:00<?, ?it/s]"
      ]
     },
     "metadata": {},
     "output_type": "display_data"
    },
    {
     "data": {
      "application/vnd.jupyter.widget-view+json": {
       "model_id": "1e3761b2dae14065a619abd340591be9",
       "version_major": 2,
       "version_minor": 0
      },
      "text/plain": [
       "mnar_proportions:   0%|          | 0/2 [00:00<?, ?it/s]"
      ]
     },
     "metadata": {},
     "output_type": "display_data"
    },
    {
     "data": {
      "application/vnd.jupyter.widget-view+json": {
       "model_id": "2811ea96de2b4a9fbd060b60d1f3d762",
       "version_major": 2,
       "version_minor": 0
      },
      "text/plain": [
       "seeds:   0%|          | 0/20 [00:00<?, ?it/s]"
      ]
     },
     "metadata": {},
     "output_type": "display_data"
    },
    {
     "data": {
      "application/vnd.jupyter.widget-view+json": {
       "model_id": "c99ecd23728948f39387c6d434d96437",
       "version_major": 2,
       "version_minor": 0
      },
      "text/plain": [
       "seeds:   0%|          | 0/20 [00:00<?, ?it/s]"
      ]
     },
     "metadata": {},
     "output_type": "display_data"
    }
   ],
   "source": [
    "\n",
    "\n",
    "for d in tqdm_notebook(datasets, desc=\"Datasets\"):\n",
    "\n",
    "    gower_dist_complete = gower_matrix(complete_data[d]['X_complete'],cat_features=complete_data[d]['cat_mask'])\n",
    "\n",
    "    for prop in tqdm_notebook(md_param_grid['props'], desc=\"props\", leave=False):\n",
    "        for mf_proportion in tqdm_notebook(md_param_grid['mf_proportions'], desc=\"mf_proportions\", leave=False):\n",
    "            for mnar_proportion in tqdm_notebook(md_param_grid['mnar_proportions'], desc=\"mnar_proportions\", leave=False):\n",
    "                \n",
    "                for seed in tqdm_notebook(range(n_runs), desc = \"seeds\", leave=False):\n",
    "                    # read data\n",
    "                    directory = \"test_data/\"+str(d)+\"/\"+str(prop)+\"_\"+str(mf_proportion)+\"_\"+str(mnar_proportion)\n",
    "                    simulated_data = read_pickle(directory+\"/pipeline_\"+str(seed)+\".pickle\")\n",
    "\n",
    "        \n",
    "                    # KNN imputation\n",
    "                    knn_imputer = KNNImputer(n_neighbors=10)\n",
    "                    single_knn_imputation = knn_imputer.fit_transform(simulated_data.incomplete_data)\n",
    "\n",
    "\n",
    "                    kpod_labels = clustering_utils.compute_kpod(simulated_data.incomplete_data,\n",
    "                                            num_clusters=complete_data[d]['num_classes'])[0]\n",
    "\n",
    "                    single_imput_knn_labels = clustering_utils.compute_spectral(complete_data=single_knn_imputation,\n",
    "                                                                cat_mask=complete_data[d]['cat_mask'],\n",
    "                                                                num_clusters=complete_data[d]['num_classes'],\n",
    "                                                                seed=seed\n",
    "                                                                )\n",
    "                    cca_labels = clustering_utils.compute_spectral(complete_data=complete_data[d]['X_complete'],\n",
    "                                                                cat_mask=complete_data[d]['cat_mask'],\n",
    "                                                                num_clusters=complete_data[d]['num_classes'],\n",
    "                                                                seed=seed\n",
    "                                                                )\n",
    "\n",
    "                    # external metrics calculation and save\n",
    "                    single_imput_knn_res = clustering_utils.external_metrics(cca_labels, single_imput_knn_labels)\n",
    "                    kpod_res = clustering_utils.external_metrics(cca_labels, kpod_labels)\n",
    "\n",
    "                    # external on known classes \n",
    "                    single_imput_knn_known = clustering_utils.external_metrics(complete_data[d]['y_complete'].values.flatten(), single_imput_knn_labels)\n",
    "                    kpod_known = clustering_utils.external_metrics(complete_data[d]['y_complete'].values.flatten(), kpod_labels)\n",
    "\n",
    "                    # internal metrics calculation and save\n",
    "                    singleimput_knn_internal = clustering_utils.internal_metrics(single_imput_knn_labels, gower_dist_complete, complete_data[d]['X_complete'])\n",
    "                    kpod_internal = clustering_utils.internal_metrics(kpod_labels, gower_dist_complete, complete_data[d]['X_complete'])\n",
    "\n",
    "                    \n",
    "                    for m_ in external_metrics:\n",
    "                        results_kpod[d][(prop,mf_proportion,mnar_proportion)][m_].append(kpod_res[m_])\n",
    "                        results_singleimput_knn[d][(prop,mf_proportion,mnar_proportion)][m_].append(single_imput_knn_res[m_])\n",
    "\n",
    "                    for m_ in external_metrics:\n",
    "                        results_kpod[d][(prop,mf_proportion,mnar_proportion)][\"known_\"+m_].append(kpod_known[m_])\n",
    "                        results_singleimput_knn[d][(prop,mf_proportion,mnar_proportion)][\"known_\"+m_].append(single_imput_knn_known[m_])\n",
    "\n",
    "                    for m_ in internal_metrics:\n",
    "                        results_kpod[d][(prop,mf_proportion,mnar_proportion)][m_].append(kpod_internal[m_])\n",
    "                        results_singleimput_knn[d][(prop,mf_proportion,mnar_proportion)][m_].append(singleimput_knn_internal[m_])\n",
    "\n",
    "                    sleep(0.01)\n",
    "    # save for dataset\n",
    "    write_pickle(results_singleimput_knn[d],\"output_simulation/\"+str(d)+\"singleimput_knn.pickle\")\n",
    "    write_pickle(results_kpod[d],\"output_simulation/\"+str(d)+\"kpod.pickle\")\n"
   ]
  },
  {
   "cell_type": "code",
   "execution_count": 10,
   "id": "406dd545",
   "metadata": {},
   "outputs": [],
   "source": [
    "write_pickle(results_singleimput_knn,\"output_simulation/singleimput_knn.pickle\")\n",
    "write_pickle(results_kpod,\"output_simulation/kpod.pickle\")"
   ]
  }
 ],
 "metadata": {
  "kernelspec": {
   "display_name": "fusemix",
   "language": "python",
   "name": "python3"
  },
  "language_info": {
   "codemirror_mode": {
    "name": "ipython",
    "version": 3
   },
   "file_extension": ".py",
   "mimetype": "text/x-python",
   "name": "python",
   "nbconvert_exporter": "python",
   "pygments_lexer": "ipython3",
   "version": "3.13.5"
  }
 },
 "nbformat": 4,
 "nbformat_minor": 5
}
